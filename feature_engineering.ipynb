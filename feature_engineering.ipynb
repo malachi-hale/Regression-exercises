{
 "cells": [
  {
   "cell_type": "markdown",
   "id": "4b50c1cf",
   "metadata": {},
   "source": [
    " \n",
    "# Feature Engineering"
   ]
  },
  {
   "cell_type": "code",
   "execution_count": 29,
   "id": "3099d0f6",
   "metadata": {},
   "outputs": [],
   "source": [
    "#General libraries\n",
    "import pandas as pd\n",
    "import numpy as np\n",
    "\n",
    "#Disable Warnings\n",
    "import warnings\n",
    "warnings.filterwarnings(\"ignore\")\n",
    "\n",
    "#Import Dataset\n",
    "from pydataset import data\n",
    "\n",
    "#sklearn imports\n",
    "from sklearn.feature_selection import SelectKBest, f_regression, RFE\n",
    "from sklearn.linear_model import LinearRegression\n",
    "from sklearn.model_selection import train_test_split\n",
    "from sklearn.preprocessing import StandardScaler"
   ]
  },
  {
   "cell_type": "markdown",
   "id": "6440f686",
   "metadata": {},
   "source": [
    "## Tips Dataset"
   ]
  },
  {
   "cell_type": "markdown",
   "id": "87543198",
   "metadata": {},
   "source": [
    "<tr>\n",
    "    <td> <img src=\"Photos/pexels-karolina-grabowska-4386321.jpg\"/> </td>\n",
    "</tr>"
   ]
  },
  {
   "cell_type": "markdown",
   "id": "6fdf7d78",
   "metadata": {},
   "source": [
    "[Source Photo 1](https://www.pexels.com/photo/crop-anonymous-person-calculating-profit-on-smartphone-calculator-near-banknotes-4386321/)"
   ]
  },
  {
   "cell_type": "markdown",
   "id": "2d0941e1",
   "metadata": {},
   "source": [
    "### Load Data"
   ]
  },
  {
   "cell_type": "markdown",
   "id": "e4024cf2",
   "metadata": {},
   "source": [
    "We will utilize the <code>tips</code> dataset."
   ]
  },
  {
   "cell_type": "code",
   "execution_count": 30,
   "id": "d5d03292",
   "metadata": {
    "scrolled": true
   },
   "outputs": [
    {
     "data": {
      "text/html": [
       "<div>\n",
       "<style scoped>\n",
       "    .dataframe tbody tr th:only-of-type {\n",
       "        vertical-align: middle;\n",
       "    }\n",
       "\n",
       "    .dataframe tbody tr th {\n",
       "        vertical-align: top;\n",
       "    }\n",
       "\n",
       "    .dataframe thead th {\n",
       "        text-align: right;\n",
       "    }\n",
       "</style>\n",
       "<table border=\"1\" class=\"dataframe\">\n",
       "  <thead>\n",
       "    <tr style=\"text-align: right;\">\n",
       "      <th></th>\n",
       "      <th>total_bill</th>\n",
       "      <th>tip</th>\n",
       "      <th>sex</th>\n",
       "      <th>smoker</th>\n",
       "      <th>day</th>\n",
       "      <th>time</th>\n",
       "      <th>size</th>\n",
       "    </tr>\n",
       "  </thead>\n",
       "  <tbody>\n",
       "    <tr>\n",
       "      <th>1</th>\n",
       "      <td>16.99</td>\n",
       "      <td>1.01</td>\n",
       "      <td>Female</td>\n",
       "      <td>No</td>\n",
       "      <td>Sun</td>\n",
       "      <td>Dinner</td>\n",
       "      <td>2</td>\n",
       "    </tr>\n",
       "    <tr>\n",
       "      <th>2</th>\n",
       "      <td>10.34</td>\n",
       "      <td>1.66</td>\n",
       "      <td>Male</td>\n",
       "      <td>No</td>\n",
       "      <td>Sun</td>\n",
       "      <td>Dinner</td>\n",
       "      <td>3</td>\n",
       "    </tr>\n",
       "    <tr>\n",
       "      <th>3</th>\n",
       "      <td>21.01</td>\n",
       "      <td>3.50</td>\n",
       "      <td>Male</td>\n",
       "      <td>No</td>\n",
       "      <td>Sun</td>\n",
       "      <td>Dinner</td>\n",
       "      <td>3</td>\n",
       "    </tr>\n",
       "    <tr>\n",
       "      <th>4</th>\n",
       "      <td>23.68</td>\n",
       "      <td>3.31</td>\n",
       "      <td>Male</td>\n",
       "      <td>No</td>\n",
       "      <td>Sun</td>\n",
       "      <td>Dinner</td>\n",
       "      <td>2</td>\n",
       "    </tr>\n",
       "    <tr>\n",
       "      <th>5</th>\n",
       "      <td>24.59</td>\n",
       "      <td>3.61</td>\n",
       "      <td>Female</td>\n",
       "      <td>No</td>\n",
       "      <td>Sun</td>\n",
       "      <td>Dinner</td>\n",
       "      <td>4</td>\n",
       "    </tr>\n",
       "  </tbody>\n",
       "</table>\n",
       "</div>"
      ],
      "text/plain": [
       "   total_bill   tip     sex smoker  day    time  size\n",
       "1       16.99  1.01  Female     No  Sun  Dinner     2\n",
       "2       10.34  1.66    Male     No  Sun  Dinner     3\n",
       "3       21.01  3.50    Male     No  Sun  Dinner     3\n",
       "4       23.68  3.31    Male     No  Sun  Dinner     2\n",
       "5       24.59  3.61  Female     No  Sun  Dinner     4"
      ]
     },
     "execution_count": 30,
     "metadata": {},
     "output_type": "execute_result"
    }
   ],
   "source": [
    "#Load the dataset\n",
    "tips=data(\"tips\")\n",
    "#Show head of the DataFrame\n",
    "tips.head()"
   ]
  },
  {
   "cell_type": "markdown",
   "id": "105f6f95",
   "metadata": {},
   "source": [
    "### Tip Percentage"
   ]
  },
  {
   "cell_type": "markdown",
   "id": "43aaa730",
   "metadata": {},
   "source": [
    "**Task**\n",
    "    \n",
    "Create a column named <code>tip_percentage</code>. This should be the tip amount divided by the total bill."
   ]
  },
  {
   "cell_type": "code",
   "execution_count": 31,
   "id": "f988e9c0",
   "metadata": {},
   "outputs": [
    {
     "data": {
      "text/html": [
       "<div>\n",
       "<style scoped>\n",
       "    .dataframe tbody tr th:only-of-type {\n",
       "        vertical-align: middle;\n",
       "    }\n",
       "\n",
       "    .dataframe tbody tr th {\n",
       "        vertical-align: top;\n",
       "    }\n",
       "\n",
       "    .dataframe thead th {\n",
       "        text-align: right;\n",
       "    }\n",
       "</style>\n",
       "<table border=\"1\" class=\"dataframe\">\n",
       "  <thead>\n",
       "    <tr style=\"text-align: right;\">\n",
       "      <th></th>\n",
       "      <th>total_bill</th>\n",
       "      <th>tip</th>\n",
       "      <th>sex</th>\n",
       "      <th>smoker</th>\n",
       "      <th>day</th>\n",
       "      <th>time</th>\n",
       "      <th>size</th>\n",
       "      <th>tip_percentage</th>\n",
       "    </tr>\n",
       "  </thead>\n",
       "  <tbody>\n",
       "    <tr>\n",
       "      <th>1</th>\n",
       "      <td>16.99</td>\n",
       "      <td>1.01</td>\n",
       "      <td>Female</td>\n",
       "      <td>No</td>\n",
       "      <td>Sun</td>\n",
       "      <td>Dinner</td>\n",
       "      <td>2</td>\n",
       "      <td>0.059447</td>\n",
       "    </tr>\n",
       "    <tr>\n",
       "      <th>2</th>\n",
       "      <td>10.34</td>\n",
       "      <td>1.66</td>\n",
       "      <td>Male</td>\n",
       "      <td>No</td>\n",
       "      <td>Sun</td>\n",
       "      <td>Dinner</td>\n",
       "      <td>3</td>\n",
       "      <td>0.160542</td>\n",
       "    </tr>\n",
       "    <tr>\n",
       "      <th>3</th>\n",
       "      <td>21.01</td>\n",
       "      <td>3.50</td>\n",
       "      <td>Male</td>\n",
       "      <td>No</td>\n",
       "      <td>Sun</td>\n",
       "      <td>Dinner</td>\n",
       "      <td>3</td>\n",
       "      <td>0.166587</td>\n",
       "    </tr>\n",
       "    <tr>\n",
       "      <th>4</th>\n",
       "      <td>23.68</td>\n",
       "      <td>3.31</td>\n",
       "      <td>Male</td>\n",
       "      <td>No</td>\n",
       "      <td>Sun</td>\n",
       "      <td>Dinner</td>\n",
       "      <td>2</td>\n",
       "      <td>0.139780</td>\n",
       "    </tr>\n",
       "    <tr>\n",
       "      <th>5</th>\n",
       "      <td>24.59</td>\n",
       "      <td>3.61</td>\n",
       "      <td>Female</td>\n",
       "      <td>No</td>\n",
       "      <td>Sun</td>\n",
       "      <td>Dinner</td>\n",
       "      <td>4</td>\n",
       "      <td>0.146808</td>\n",
       "    </tr>\n",
       "  </tbody>\n",
       "</table>\n",
       "</div>"
      ],
      "text/plain": [
       "   total_bill   tip     sex smoker  day    time  size  tip_percentage\n",
       "1       16.99  1.01  Female     No  Sun  Dinner     2        0.059447\n",
       "2       10.34  1.66    Male     No  Sun  Dinner     3        0.160542\n",
       "3       21.01  3.50    Male     No  Sun  Dinner     3        0.166587\n",
       "4       23.68  3.31    Male     No  Sun  Dinner     2        0.139780\n",
       "5       24.59  3.61  Female     No  Sun  Dinner     4        0.146808"
      ]
     },
     "execution_count": 31,
     "metadata": {},
     "output_type": "execute_result"
    }
   ],
   "source": [
    "tips[\"tip_percentage\"]= tips.tip / (tips.total_bill)\n",
    "tips.head()"
   ]
  },
  {
   "cell_type": "markdown",
   "id": "a83172ad",
   "metadata": {},
   "source": [
    "### Price Per Person"
   ]
  },
  {
   "cell_type": "markdown",
   "id": "6bafa49d",
   "metadata": {},
   "source": [
    "**Task**\n",
    "    \n",
    "Create a column named <code>price_per_person</code>. This should be the tip amount divided by the total bill.\n"
   ]
  },
  {
   "cell_type": "code",
   "execution_count": 32,
   "id": "4ad640e2",
   "metadata": {},
   "outputs": [
    {
     "data": {
      "text/html": [
       "<div>\n",
       "<style scoped>\n",
       "    .dataframe tbody tr th:only-of-type {\n",
       "        vertical-align: middle;\n",
       "    }\n",
       "\n",
       "    .dataframe tbody tr th {\n",
       "        vertical-align: top;\n",
       "    }\n",
       "\n",
       "    .dataframe thead th {\n",
       "        text-align: right;\n",
       "    }\n",
       "</style>\n",
       "<table border=\"1\" class=\"dataframe\">\n",
       "  <thead>\n",
       "    <tr style=\"text-align: right;\">\n",
       "      <th></th>\n",
       "      <th>total_bill</th>\n",
       "      <th>tip</th>\n",
       "      <th>sex</th>\n",
       "      <th>smoker</th>\n",
       "      <th>day</th>\n",
       "      <th>time</th>\n",
       "      <th>size</th>\n",
       "      <th>tip_percentage</th>\n",
       "      <th>price_per_person</th>\n",
       "    </tr>\n",
       "  </thead>\n",
       "  <tbody>\n",
       "    <tr>\n",
       "      <th>1</th>\n",
       "      <td>16.99</td>\n",
       "      <td>1.01</td>\n",
       "      <td>Female</td>\n",
       "      <td>No</td>\n",
       "      <td>Sun</td>\n",
       "      <td>Dinner</td>\n",
       "      <td>2</td>\n",
       "      <td>0.059447</td>\n",
       "      <td>8.495000</td>\n",
       "    </tr>\n",
       "    <tr>\n",
       "      <th>2</th>\n",
       "      <td>10.34</td>\n",
       "      <td>1.66</td>\n",
       "      <td>Male</td>\n",
       "      <td>No</td>\n",
       "      <td>Sun</td>\n",
       "      <td>Dinner</td>\n",
       "      <td>3</td>\n",
       "      <td>0.160542</td>\n",
       "      <td>3.446667</td>\n",
       "    </tr>\n",
       "    <tr>\n",
       "      <th>3</th>\n",
       "      <td>21.01</td>\n",
       "      <td>3.50</td>\n",
       "      <td>Male</td>\n",
       "      <td>No</td>\n",
       "      <td>Sun</td>\n",
       "      <td>Dinner</td>\n",
       "      <td>3</td>\n",
       "      <td>0.166587</td>\n",
       "      <td>7.003333</td>\n",
       "    </tr>\n",
       "    <tr>\n",
       "      <th>4</th>\n",
       "      <td>23.68</td>\n",
       "      <td>3.31</td>\n",
       "      <td>Male</td>\n",
       "      <td>No</td>\n",
       "      <td>Sun</td>\n",
       "      <td>Dinner</td>\n",
       "      <td>2</td>\n",
       "      <td>0.139780</td>\n",
       "      <td>11.840000</td>\n",
       "    </tr>\n",
       "    <tr>\n",
       "      <th>5</th>\n",
       "      <td>24.59</td>\n",
       "      <td>3.61</td>\n",
       "      <td>Female</td>\n",
       "      <td>No</td>\n",
       "      <td>Sun</td>\n",
       "      <td>Dinner</td>\n",
       "      <td>4</td>\n",
       "      <td>0.146808</td>\n",
       "      <td>6.147500</td>\n",
       "    </tr>\n",
       "  </tbody>\n",
       "</table>\n",
       "</div>"
      ],
      "text/plain": [
       "   total_bill   tip     sex smoker  day    time  size  tip_percentage  \\\n",
       "1       16.99  1.01  Female     No  Sun  Dinner     2        0.059447   \n",
       "2       10.34  1.66    Male     No  Sun  Dinner     3        0.160542   \n",
       "3       21.01  3.50    Male     No  Sun  Dinner     3        0.166587   \n",
       "4       23.68  3.31    Male     No  Sun  Dinner     2        0.139780   \n",
       "5       24.59  3.61  Female     No  Sun  Dinner     4        0.146808   \n",
       "\n",
       "   price_per_person  \n",
       "1          8.495000  \n",
       "2          3.446667  \n",
       "3          7.003333  \n",
       "4         11.840000  \n",
       "5          6.147500  "
      ]
     },
     "execution_count": 32,
     "metadata": {},
     "output_type": "execute_result"
    }
   ],
   "source": [
    "tips['price_per_person'] = tips.total_bill / tips['size']\n",
    "tips.head()"
   ]
  },
  {
   "cell_type": "markdown",
   "id": "7a429ae9",
   "metadata": {},
   "source": [
    "### Predictions"
   ]
  },
  {
   "cell_type": "markdown",
   "id": "60aaddce",
   "metadata": {},
   "source": [
    "**Question**\n",
    "    \n",
    "Before using any of the methods discussed in the lesson, which features do you think would be most important for predicting the tip amount? The tip percentage?\n"
   ]
  },
  {
   "cell_type": "markdown",
   "id": "8d994fa9",
   "metadata": {},
   "source": [
    "**Answer**\n",
    "    \n",
    "I believe `total_bill` will be most important in calculating the `tip` value because people usually tip based on a percentage of their total bill. Speaking personally, I always tip at the same rate, even if I don't like the service.\n",
    "\n",
    "I also believe `total_bill` will be predictive of `tip_percentage`. People who have a smaller total bill may feel obligated to leave a larger percentage of tip, so that their tip is not tiny. Likewise, people who have a high total bill may feel more comfortable giving a lesser percentage, since a smaller tip percentage still means a large tip. "
   ]
  },
  {
   "cell_type": "markdown",
   "id": "1938fe65",
   "metadata": {},
   "source": [
    "### Select K Best and Recursive Feature Elimination"
   ]
  },
  {
   "cell_type": "markdown",
   "id": "981f1104",
   "metadata": {},
   "source": [
    "#### K Best for tip amount"
   ]
  },
  {
   "cell_type": "markdown",
   "id": "07b47784",
   "metadata": {},
   "source": [
    "**Task**\n",
    "    \n",
    "Use select k best and recursive feature elimination to select the top 2 features for predicting tip amount. What are they?\n"
   ]
  },
  {
   "cell_type": "markdown",
   "id": "cc074f68",
   "metadata": {},
   "source": [
    "First, we will convert the `smoker` and `time` columns to integer values so that they are easier for us to process. \n",
    " - For the `smoker` column, `0` is non-smoking and `1` is smoking.\n",
    " - For the `time` column, `0` is lunch and `1` is dinner."
   ]
  },
  {
   "cell_type": "code",
   "execution_count": 33,
   "id": "f1a310e1",
   "metadata": {},
   "outputs": [
    {
     "data": {
      "text/html": [
       "<div>\n",
       "<style scoped>\n",
       "    .dataframe tbody tr th:only-of-type {\n",
       "        vertical-align: middle;\n",
       "    }\n",
       "\n",
       "    .dataframe tbody tr th {\n",
       "        vertical-align: top;\n",
       "    }\n",
       "\n",
       "    .dataframe thead th {\n",
       "        text-align: right;\n",
       "    }\n",
       "</style>\n",
       "<table border=\"1\" class=\"dataframe\">\n",
       "  <thead>\n",
       "    <tr style=\"text-align: right;\">\n",
       "      <th></th>\n",
       "      <th>total_bill</th>\n",
       "      <th>tip</th>\n",
       "      <th>sex</th>\n",
       "      <th>smoker</th>\n",
       "      <th>day</th>\n",
       "      <th>time</th>\n",
       "      <th>size</th>\n",
       "      <th>tip_percentage</th>\n",
       "      <th>price_per_person</th>\n",
       "    </tr>\n",
       "  </thead>\n",
       "  <tbody>\n",
       "    <tr>\n",
       "      <th>1</th>\n",
       "      <td>16.99</td>\n",
       "      <td>1.01</td>\n",
       "      <td>Female</td>\n",
       "      <td>0</td>\n",
       "      <td>Sun</td>\n",
       "      <td>1</td>\n",
       "      <td>2</td>\n",
       "      <td>0.059447</td>\n",
       "      <td>8.495000</td>\n",
       "    </tr>\n",
       "    <tr>\n",
       "      <th>2</th>\n",
       "      <td>10.34</td>\n",
       "      <td>1.66</td>\n",
       "      <td>Male</td>\n",
       "      <td>0</td>\n",
       "      <td>Sun</td>\n",
       "      <td>1</td>\n",
       "      <td>3</td>\n",
       "      <td>0.160542</td>\n",
       "      <td>3.446667</td>\n",
       "    </tr>\n",
       "    <tr>\n",
       "      <th>3</th>\n",
       "      <td>21.01</td>\n",
       "      <td>3.50</td>\n",
       "      <td>Male</td>\n",
       "      <td>0</td>\n",
       "      <td>Sun</td>\n",
       "      <td>1</td>\n",
       "      <td>3</td>\n",
       "      <td>0.166587</td>\n",
       "      <td>7.003333</td>\n",
       "    </tr>\n",
       "    <tr>\n",
       "      <th>4</th>\n",
       "      <td>23.68</td>\n",
       "      <td>3.31</td>\n",
       "      <td>Male</td>\n",
       "      <td>0</td>\n",
       "      <td>Sun</td>\n",
       "      <td>1</td>\n",
       "      <td>2</td>\n",
       "      <td>0.139780</td>\n",
       "      <td>11.840000</td>\n",
       "    </tr>\n",
       "    <tr>\n",
       "      <th>5</th>\n",
       "      <td>24.59</td>\n",
       "      <td>3.61</td>\n",
       "      <td>Female</td>\n",
       "      <td>0</td>\n",
       "      <td>Sun</td>\n",
       "      <td>1</td>\n",
       "      <td>4</td>\n",
       "      <td>0.146808</td>\n",
       "      <td>6.147500</td>\n",
       "    </tr>\n",
       "  </tbody>\n",
       "</table>\n",
       "</div>"
      ],
      "text/plain": [
       "   total_bill   tip     sex  smoker  day  time  size  tip_percentage  \\\n",
       "1       16.99  1.01  Female       0  Sun     1     2        0.059447   \n",
       "2       10.34  1.66    Male       0  Sun     1     3        0.160542   \n",
       "3       21.01  3.50    Male       0  Sun     1     3        0.166587   \n",
       "4       23.68  3.31    Male       0  Sun     1     2        0.139780   \n",
       "5       24.59  3.61  Female       0  Sun     1     4        0.146808   \n",
       "\n",
       "   price_per_person  \n",
       "1          8.495000  \n",
       "2          3.446667  \n",
       "3          7.003333  \n",
       "4         11.840000  \n",
       "5          6.147500  "
      ]
     },
     "execution_count": 33,
     "metadata": {},
     "output_type": "execute_result"
    }
   ],
   "source": [
    "tips['smoker'] = (tips.smoker == 'Yes').astype(int)\n",
    "tips['time'] = (tips.time == 'Dinner').astype(int)\n",
    "tips.head()"
   ]
  },
  {
   "cell_type": "markdown",
   "id": "453a18f1",
   "metadata": {},
   "source": [
    "Now we split the data into `train` and `test`, stratifying on our target feature of `tip`."
   ]
  },
  {
   "cell_type": "code",
   "execution_count": 34,
   "id": "37db0e85",
   "metadata": {},
   "outputs": [],
   "source": [
    "X = tips[['total_bill', 'size', 'smoker', 'time', 'tip_percentage', 'price_per_person']]\n",
    "y = tips.tip\n",
    "\n",
    "X_train, X_test, y_train, y_test = train_test_split(X, y, test_size=.2, random_state=123)"
   ]
  },
  {
   "cell_type": "markdown",
   "id": "0353dacc",
   "metadata": {},
   "source": [
    "Now we can scale our data using the `StandardScaler`"
   ]
  },
  {
   "cell_type": "code",
   "execution_count": 35,
   "id": "1abb5974",
   "metadata": {},
   "outputs": [],
   "source": [
    "scaler = StandardScaler()\n",
    "X_train_scaled = scaler.fit_transform(X_train)\n",
    "X_test_scaled = scaler.transform(X_test)"
   ]
  },
  {
   "cell_type": "markdown",
   "id": "6be5f9d7",
   "metadata": {},
   "source": [
    "We are ready to use Select K Best."
   ]
  },
  {
   "cell_type": "code",
   "execution_count": 36,
   "id": "86d621d6",
   "metadata": {},
   "outputs": [
    {
     "data": {
      "text/plain": [
       "SelectKBest(k=2, score_func=<function f_regression at 0x7fe1db220310>)"
      ]
     },
     "execution_count": 36,
     "metadata": {},
     "output_type": "execute_result"
    }
   ],
   "source": [
    "# Create model\n",
    "kbest = SelectKBest(f_regression, k=2)\n",
    "#Fit the model\n",
    "kbest.fit(X_train_scaled, y_train)"
   ]
  },
  {
   "cell_type": "markdown",
   "id": "554dfe4a",
   "metadata": {},
   "source": [
    "We can use this model to find the top three features most predictive of `tip` amount."
   ]
  },
  {
   "cell_type": "code",
   "execution_count": 37,
   "id": "9d9a956e",
   "metadata": {},
   "outputs": [
    {
     "data": {
      "text/plain": [
       "Index(['total_bill', 'size'], dtype='object')"
      ]
     },
     "execution_count": 37,
     "metadata": {},
     "output_type": "execute_result"
    }
   ],
   "source": [
    "X_train.columns[kbest.get_support()]"
   ]
  },
  {
   "cell_type": "markdown",
   "id": "603923e3",
   "metadata": {},
   "source": [
    "**Conclusion**\n",
    "\n",
    "We conclude that `total_bill` and `size` are most predicitve of `tip`.\n"
   ]
  },
  {
   "cell_type": "markdown",
   "id": "abc45664",
   "metadata": {},
   "source": [
    "#### Recursive Feature Elimination for tip amount"
   ]
  },
  {
   "cell_type": "markdown",
   "id": "89e20377",
   "metadata": {},
   "source": [
    "Let's see if we get a different result for the features most preditive of `tip` using the recursive feature elimination method."
   ]
  },
  {
   "cell_type": "code",
   "execution_count": 38,
   "id": "9a3ec2b0",
   "metadata": {},
   "outputs": [
    {
     "data": {
      "text/plain": [
       "Index(['total_bill', 'tip_percentage'], dtype='object')"
      ]
     },
     "execution_count": 38,
     "metadata": {},
     "output_type": "execute_result"
    }
   ],
   "source": [
    "rfe = RFE(estimator=LinearRegression(), n_features_to_select=2)\n",
    "rfe.fit(X_train_scaled, y_train)\n",
    "X_train.columns[rfe.get_support()]"
   ]
  },
  {
   "cell_type": "markdown",
   "id": "7db1532c",
   "metadata": {},
   "source": [
    "**Conclusion**\n",
    "\n",
    "According recursive feature elimination, `total_bill` and `tip_percentage` are most predictive of tip amount."
   ]
  },
  {
   "cell_type": "markdown",
   "id": "2ac36cd2",
   "metadata": {},
   "source": [
    "#### K Best for `tip_percentage`"
   ]
  },
  {
   "cell_type": "markdown",
   "id": "6a69c16f",
   "metadata": {},
   "source": [
    "**Task**\n",
    "    \n",
    "Use select k best and recursive feature elimination to select the top 2 features for predicting tip percentage. What are they?"
   ]
  },
  {
   "cell_type": "markdown",
   "id": "ce23c7ff",
   "metadata": {},
   "source": [
    "Again, we split the data into `train` and `test`, but this time we stratify the split on the feature `tip_percentage`."
   ]
  },
  {
   "cell_type": "code",
   "execution_count": 39,
   "id": "b0a39196",
   "metadata": {},
   "outputs": [],
   "source": [
    "X = tips[['total_bill', 'size', 'smoker', 'time', 'tip', 'price_per_person']]\n",
    "y = tips.tip_percentage\n",
    "\n",
    "X_train, X_test, y_train, y_test = train_test_split(X, y, test_size=.2, random_state=123)"
   ]
  },
  {
   "cell_type": "markdown",
   "id": "d8af5ecd",
   "metadata": {},
   "source": [
    "We scale our data using `StandardScaler`."
   ]
  },
  {
   "cell_type": "code",
   "execution_count": 40,
   "id": "d8fb4832",
   "metadata": {},
   "outputs": [],
   "source": [
    "scaler = StandardScaler()\n",
    "X_train_scaled = scaler.fit_transform(X_train)\n",
    "X_test_scaled = scaler.transform(X_test)"
   ]
  },
  {
   "cell_type": "markdown",
   "id": "17a29104",
   "metadata": {},
   "source": [
    "Now we use Select K Best."
   ]
  },
  {
   "cell_type": "code",
   "execution_count": 41,
   "id": "b53c6b38",
   "metadata": {},
   "outputs": [
    {
     "data": {
      "text/plain": [
       "SelectKBest(k=2, score_func=<function f_regression at 0x7fe1db220310>)"
      ]
     },
     "execution_count": 41,
     "metadata": {},
     "output_type": "execute_result"
    }
   ],
   "source": [
    "# Create model\n",
    "kbest = SelectKBest(f_regression, k=2)\n",
    "#Fit the model\n",
    "kbest.fit(X_train_scaled, y_train)"
   ]
  },
  {
   "cell_type": "markdown",
   "id": "1ca05935",
   "metadata": {},
   "source": [
    "We use the model to find the features most predictive of `tip_percentage`."
   ]
  },
  {
   "cell_type": "code",
   "execution_count": 42,
   "id": "aa2f8de4",
   "metadata": {},
   "outputs": [
    {
     "data": {
      "text/plain": [
       "Index(['tip', 'price_per_person'], dtype='object')"
      ]
     },
     "execution_count": 42,
     "metadata": {},
     "output_type": "execute_result"
    }
   ],
   "source": [
    "X_train.columns[kbest.get_support()]"
   ]
  },
  {
   "cell_type": "markdown",
   "id": "8b75e2d3",
   "metadata": {},
   "source": [
    "**Conclusion**\n",
    "    \n",
    "The features `tip` and `price_per_person` are most predictive of `tip_percentage`.\n"
   ]
  },
  {
   "cell_type": "markdown",
   "id": "d09ed38e",
   "metadata": {},
   "source": [
    "#### Recursive Feature Elimination for `tip_percentage`"
   ]
  },
  {
   "cell_type": "markdown",
   "id": "1dc5e9f3",
   "metadata": {},
   "source": [
    "Let's see if we get a different result for the most predictive features of `tip_percentage` using recursive feature elimination."
   ]
  },
  {
   "cell_type": "code",
   "execution_count": 43,
   "id": "1704edd9",
   "metadata": {},
   "outputs": [
    {
     "data": {
      "text/plain": [
       "Index(['total_bill', 'tip'], dtype='object')"
      ]
     },
     "execution_count": 43,
     "metadata": {},
     "output_type": "execute_result"
    }
   ],
   "source": [
    "rfe = RFE(estimator=LinearRegression(), n_features_to_select=2)\n",
    "rfe.fit(X_train_scaled, y_train)\n",
    "X_train.columns[rfe.get_support()]"
   ]
  },
  {
   "cell_type": "markdown",
   "id": "6458aa99",
   "metadata": {},
   "source": [
    "**Conclusion**\n",
    "\n",
    "According the recursive feature elimination model, `total_bill` and `tip` are the most predictive features of `tip_percentage`.\n"
   ]
  },
  {
   "cell_type": "markdown",
   "id": "5d4c4a2a",
   "metadata": {},
   "source": [
    "### Comparing methods"
   ]
  },
  {
   "cell_type": "markdown",
   "id": "e9672014",
   "metadata": {},
   "source": [
    "**Task**\n",
    "    \n",
    "Why do you think select k best and recursive feature elimination might give different answers for the top features? Does this change as you change the number of features your are selecting?\n"
   ]
  },
  {
   "cell_type": "markdown",
   "id": "e3f3b0fa",
   "metadata": {},
   "source": [
    "These methods likely give different answers for top features because the relative importance of the features is very close. Depending on how you measure the relative importance, the order of importance may appear different. \n",
    "\n",
    "We can test as to whether or not the results start to converge as we select more features. We will use the Select K Best and Recursive Feature Elimination for `tip_percentage` as an example."
   ]
  },
  {
   "cell_type": "code",
   "execution_count": 44,
   "id": "f340c3db",
   "metadata": {},
   "outputs": [
    {
     "data": {
      "text/plain": [
       "Index(['total_bill', 'size', 'tip', 'price_per_person'], dtype='object')"
      ]
     },
     "execution_count": 44,
     "metadata": {},
     "output_type": "execute_result"
    }
   ],
   "source": [
    "# Create model\n",
    "kbest = SelectKBest(f_regression, k=4)\n",
    "#Fit the model\n",
    "kbest.fit(X_train_scaled, y_train)\n",
    "#Get most important columns\n",
    "X_train.columns[kbest.get_support()]"
   ]
  },
  {
   "cell_type": "code",
   "execution_count": 45,
   "id": "3dc4abe0",
   "metadata": {
    "scrolled": true
   },
   "outputs": [
    {
     "data": {
      "text/plain": [
       "Index(['total_bill', 'size', 'tip', 'price_per_person'], dtype='object')"
      ]
     },
     "execution_count": 45,
     "metadata": {},
     "output_type": "execute_result"
    }
   ],
   "source": [
    "rfe = RFE(estimator=LinearRegression(), n_features_to_select=4)\n",
    "rfe.fit(X_train_scaled, y_train)\n",
    "X_train.columns[rfe.get_support()]"
   ]
  },
  {
   "cell_type": "markdown",
   "id": "057390a2",
   "metadata": {},
   "source": [
    "**Conclusion**\n",
    "\n",
    "As you can see, if we simply increase the features selected to 4, the results of both of these methods is identical. The relative importance of all of these features is likely close."
   ]
  },
  {
   "cell_type": "markdown",
   "id": "2b23c750",
   "metadata": {},
   "source": [
    "## Functions"
   ]
  },
  {
   "cell_type": "markdown",
   "id": "4f901af0",
   "metadata": {},
   "source": [
    "### Select K Best function"
   ]
  },
  {
   "cell_type": "markdown",
   "id": "3bf4685f",
   "metadata": {},
   "source": [
    "**Task**\n",
    "    \n",
    "Write a function named <code>select_kbest</code> that takes in the predictors (X), the target (y), and the number of features to select (k) and returns the names of the top k selected features based on the <code>SelectKBest</code> class. Test your function with the <code>tips</code> dataset. You should see the same results as when you did the process manually."
   ]
  },
  {
   "cell_type": "markdown",
   "id": "07a30ab1",
   "metadata": {},
   "source": [
    "#### Create function"
   ]
  },
  {
   "cell_type": "code",
   "execution_count": 46,
   "id": "f74711ce",
   "metadata": {},
   "outputs": [],
   "source": [
    "def select_kbest(X, y, k):\n",
    "    #split the data\n",
    "    X_train, X_test, y_train, y_test = train_test_split(X, y, test_size=.2, random_state=123)\n",
    "    \n",
    "    #scale the data\n",
    "    scaler = StandardScaler()\n",
    "    X_train_scaled = scaler.fit_transform(X_train)\n",
    "    X_test_scaled = scaler.transform(X_test)\n",
    "    \n",
    "    # Create model\n",
    "    kbest = SelectKBest(f_regression, k=k)\n",
    "    #Fit the model\n",
    "    kbest.fit(X_train_scaled, y_train)\n",
    "    \n",
    "    ##Get most important columns\n",
    "    return X_train.columns[kbest.get_support()]"
   ]
  },
  {
   "cell_type": "markdown",
   "id": "702a3bc8",
   "metadata": {},
   "source": [
    "#### Test Function"
   ]
  },
  {
   "cell_type": "markdown",
   "id": "37cdf09b",
   "metadata": {},
   "source": [
    "First we will test the function to find which features are most predictice of `tip`."
   ]
  },
  {
   "cell_type": "code",
   "execution_count": 47,
   "id": "13149fce",
   "metadata": {},
   "outputs": [
    {
     "data": {
      "text/plain": [
       "Index(['total_bill', 'size'], dtype='object')"
      ]
     },
     "execution_count": 47,
     "metadata": {},
     "output_type": "execute_result"
    }
   ],
   "source": [
    "X = tips[['total_bill', 'size', 'smoker', 'time', 'tip_percentage', 'price_per_person']]\n",
    "y = tips.tip\n",
    "select_kbest(X, y, 2)"
   ]
  },
  {
   "cell_type": "markdown",
   "id": "265b3f91",
   "metadata": {},
   "source": [
    "**Conclusion**\n",
    "    \n",
    "Our Select K Best function tells us that the features <code>total_bill</code> and <code>size</code> are most predictive of <code>tip</code>, which is the same result we got above."
   ]
  },
  {
   "cell_type": "code",
   "execution_count": 48,
   "id": "5e161181",
   "metadata": {},
   "outputs": [
    {
     "data": {
      "text/plain": [
       "Index(['tip', 'price_per_person'], dtype='object')"
      ]
     },
     "execution_count": 48,
     "metadata": {},
     "output_type": "execute_result"
    }
   ],
   "source": [
    "X = tips[['total_bill', 'size', 'smoker', 'time', 'tip', 'price_per_person']]\n",
    "y = tips.tip_percentage\n",
    "select_kbest(X, y, 2)"
   ]
  },
  {
   "cell_type": "markdown",
   "id": "2158c009",
   "metadata": {},
   "source": [
    "**Conclusion**\n",
    "\n",
    "Our Select K Best function tells us that the features <code>tip</code> and <code>price_per_person</code> are most predictive of <code>tip_percentage</code>. This is the same result we got above. "
   ]
  },
  {
   "cell_type": "markdown",
   "id": "64cd78f7",
   "metadata": {},
   "source": [
    "### Recursive Feature Elimination Function"
   ]
  },
  {
   "cell_type": "markdown",
   "id": "054fe07b",
   "metadata": {},
   "source": [
    "**Task** \n",
    "    \n",
    "Write a function named <code>rfe</code> that takes in the predictors, the target, and the number of features to select. It should return the top k features based on the <code>RFE</code> class. Test your function with the <code>tips</code> dataset. You should see the same results as when you did the process manually."
   ]
  },
  {
   "cell_type": "markdown",
   "id": "c24fc289",
   "metadata": {},
   "source": [
    "#### Create function"
   ]
  },
  {
   "cell_type": "code",
   "execution_count": 49,
   "id": "f01363f8",
   "metadata": {},
   "outputs": [],
   "source": [
    "def rfe(X, y, k):\n",
    "    #split the data\n",
    "    X_train, X_test, y_train, y_test = train_test_split(X, y, test_size=.2, random_state=123)\n",
    "    \n",
    "    #scale the data\n",
    "    scaler = StandardScaler()\n",
    "    X_train_scaled = scaler.fit_transform(X_train)\n",
    "    X_test_scaled = scaler.transform(X_test)\n",
    "    \n",
    "    #Create model\n",
    "    rfe = RFE(estimator=LinearRegression(), n_features_to_select=k)\n",
    "    \n",
    "    #fit model \n",
    "    rfe.fit(X_train_scaled, y_train)\n",
    "    \n",
    "    return X_train.columns[rfe.get_support()]"
   ]
  },
  {
   "cell_type": "markdown",
   "id": "e104f3d6",
   "metadata": {},
   "source": [
    "#### Test function"
   ]
  },
  {
   "cell_type": "markdown",
   "id": "3b3ebe76",
   "metadata": {},
   "source": [
    "We will use our function to determine which features are most predictive of `tip`."
   ]
  },
  {
   "cell_type": "code",
   "execution_count": 50,
   "id": "43b6a623",
   "metadata": {},
   "outputs": [
    {
     "data": {
      "text/plain": [
       "Index(['total_bill', 'tip_percentage'], dtype='object')"
      ]
     },
     "execution_count": 50,
     "metadata": {},
     "output_type": "execute_result"
    }
   ],
   "source": [
    "X = tips[['total_bill', 'size', 'smoker', 'time', 'tip_percentage', 'price_per_person']]\n",
    "y = tips.tip\n",
    "rfe(X, y, 2)"
   ]
  },
  {
   "cell_type": "markdown",
   "id": "1535a677",
   "metadata": {},
   "source": [
    "   \n",
    "**Conclusion**\n",
    "    \n",
    "Our Recursive Feature Elimination function tells us that the features <code>total_bill</code> and <code>tip_percentage</code> are most predictive of <code>tip</code>, which is the same result we got by using Recursive Feature Elimination above."
   ]
  },
  {
   "cell_type": "markdown",
   "id": "f59f8390",
   "metadata": {},
   "source": [
    "We will now use our function to determine which featurses are most predictive of `tip_percentage`."
   ]
  },
  {
   "cell_type": "code",
   "execution_count": 51,
   "id": "1fdd8979",
   "metadata": {},
   "outputs": [
    {
     "data": {
      "text/plain": [
       "Index(['tip', 'price_per_person'], dtype='object')"
      ]
     },
     "execution_count": 51,
     "metadata": {},
     "output_type": "execute_result"
    }
   ],
   "source": [
    "X = tips[['total_bill', 'size', 'smoker', 'time', 'tip', 'price_per_person']]\n",
    "y = tips.tip_percentage\n",
    "select_kbest(X, y, 2)"
   ]
  },
  {
   "cell_type": "markdown",
   "id": "4cea04bc",
   "metadata": {},
   "source": [
    "**Conclusion**\n",
    "    \n",
    "Our Recursive Feature Elimination function tells us that the features <code>tip</code> and <code>price_per_person</code> are most predictive of <code>tip_percentage</code>, which is the same result we got by using Recursive Feature Elimination above.\n",
    "    "
   ]
  },
  {
   "cell_type": "markdown",
   "id": "2453447f",
   "metadata": {},
   "source": [
    "## Swiss Dataset"
   ]
  },
  {
   "cell_type": "markdown",
   "id": "abf4a936",
   "metadata": {},
   "source": [
    " <tr>\n",
    "    <td> <img src=\"Photos/pexels-louis-2399391.jpg\"/> </td>\n",
    "</tr>"
   ]
  },
  {
   "cell_type": "markdown",
   "id": "72f81ba0",
   "metadata": {},
   "source": [
    "[Source Photo 2](https://www.pexels.com/photo/photo-of-people-near-clock-tower-during-daytime-2399391/) "
   ]
  },
  {
   "cell_type": "markdown",
   "id": "8001f704",
   "metadata": {},
   "source": [
    "**Task**\n",
    "    \n",
    "Load the <code>swiss</code> dataset and use all the other features to predict <code>Fertility</code>. Find the top 3 features using both select k best and recursive feature elimination (use the functions you just built to help you out).\n",
    "  "
   ]
  },
  {
   "cell_type": "markdown",
   "id": "05e911af",
   "metadata": {},
   "source": [
    "### Load Dataset"
   ]
  },
  {
   "cell_type": "code",
   "execution_count": 52,
   "id": "550c2fa8",
   "metadata": {},
   "outputs": [
    {
     "data": {
      "text/html": [
       "<div>\n",
       "<style scoped>\n",
       "    .dataframe tbody tr th:only-of-type {\n",
       "        vertical-align: middle;\n",
       "    }\n",
       "\n",
       "    .dataframe tbody tr th {\n",
       "        vertical-align: top;\n",
       "    }\n",
       "\n",
       "    .dataframe thead th {\n",
       "        text-align: right;\n",
       "    }\n",
       "</style>\n",
       "<table border=\"1\" class=\"dataframe\">\n",
       "  <thead>\n",
       "    <tr style=\"text-align: right;\">\n",
       "      <th></th>\n",
       "      <th>Fertility</th>\n",
       "      <th>Agriculture</th>\n",
       "      <th>Examination</th>\n",
       "      <th>Education</th>\n",
       "      <th>Catholic</th>\n",
       "      <th>Infant.Mortality</th>\n",
       "    </tr>\n",
       "  </thead>\n",
       "  <tbody>\n",
       "    <tr>\n",
       "      <th>Courtelary</th>\n",
       "      <td>80.2</td>\n",
       "      <td>17.0</td>\n",
       "      <td>15</td>\n",
       "      <td>12</td>\n",
       "      <td>9.96</td>\n",
       "      <td>22.2</td>\n",
       "    </tr>\n",
       "    <tr>\n",
       "      <th>Delemont</th>\n",
       "      <td>83.1</td>\n",
       "      <td>45.1</td>\n",
       "      <td>6</td>\n",
       "      <td>9</td>\n",
       "      <td>84.84</td>\n",
       "      <td>22.2</td>\n",
       "    </tr>\n",
       "    <tr>\n",
       "      <th>Franches-Mnt</th>\n",
       "      <td>92.5</td>\n",
       "      <td>39.7</td>\n",
       "      <td>5</td>\n",
       "      <td>5</td>\n",
       "      <td>93.40</td>\n",
       "      <td>20.2</td>\n",
       "    </tr>\n",
       "    <tr>\n",
       "      <th>Moutier</th>\n",
       "      <td>85.8</td>\n",
       "      <td>36.5</td>\n",
       "      <td>12</td>\n",
       "      <td>7</td>\n",
       "      <td>33.77</td>\n",
       "      <td>20.3</td>\n",
       "    </tr>\n",
       "    <tr>\n",
       "      <th>Neuveville</th>\n",
       "      <td>76.9</td>\n",
       "      <td>43.5</td>\n",
       "      <td>17</td>\n",
       "      <td>15</td>\n",
       "      <td>5.16</td>\n",
       "      <td>20.6</td>\n",
       "    </tr>\n",
       "  </tbody>\n",
       "</table>\n",
       "</div>"
      ],
      "text/plain": [
       "              Fertility  Agriculture  Examination  Education  Catholic  \\\n",
       "Courtelary         80.2         17.0           15         12      9.96   \n",
       "Delemont           83.1         45.1            6          9     84.84   \n",
       "Franches-Mnt       92.5         39.7            5          5     93.40   \n",
       "Moutier            85.8         36.5           12          7     33.77   \n",
       "Neuveville         76.9         43.5           17         15      5.16   \n",
       "\n",
       "              Infant.Mortality  \n",
       "Courtelary                22.2  \n",
       "Delemont                  22.2  \n",
       "Franches-Mnt              20.2  \n",
       "Moutier                   20.3  \n",
       "Neuveville                20.6  "
      ]
     },
     "execution_count": 52,
     "metadata": {},
     "output_type": "execute_result"
    }
   ],
   "source": [
    "swiss = data(\"swiss\")\n",
    "swiss.head()"
   ]
  },
  {
   "cell_type": "markdown",
   "id": "6731bfed",
   "metadata": {},
   "source": [
    "### Select K Best"
   ]
  },
  {
   "cell_type": "markdown",
   "id": "4c301d36",
   "metadata": {},
   "source": [
    "We will use our Select K Best function that we defined above."
   ]
  },
  {
   "cell_type": "code",
   "execution_count": 53,
   "id": "ea9cd652",
   "metadata": {},
   "outputs": [
    {
     "data": {
      "text/plain": [
       "Index(['Examination', 'Education', 'Catholic'], dtype='object')"
      ]
     },
     "execution_count": 53,
     "metadata": {},
     "output_type": "execute_result"
    }
   ],
   "source": [
    "#Define x\n",
    "X = swiss[['Agriculture', 'Examination', 'Education', 'Catholic', 'Infant.Mortality']]\n",
    "#Define y, using the target variable\n",
    "y = swiss.Fertility\n",
    "select_kbest(X, y, 3)"
   ]
  },
  {
   "cell_type": "markdown",
   "id": "f1d7cafa",
   "metadata": {},
   "source": [
    "**Conclusion**\n",
    "\n",
    "Using the Select K Best function , we conclude that `Examination`, `Education`, and `Catholic` are most predictive of `Fertility`.\n",
    "   "
   ]
  },
  {
   "cell_type": "markdown",
   "id": "b801e345",
   "metadata": {},
   "source": [
    "### Recursive Feature Elimination"
   ]
  },
  {
   "cell_type": "code",
   "execution_count": 54,
   "id": "c24c3fb6",
   "metadata": {},
   "outputs": [
    {
     "data": {
      "text/plain": [
       "Index(['Agriculture', 'Education', 'Catholic'], dtype='object')"
      ]
     },
     "execution_count": 54,
     "metadata": {},
     "output_type": "execute_result"
    }
   ],
   "source": [
    "X = swiss[['Agriculture', 'Examination', 'Education', 'Catholic', 'Infant.Mortality']]\n",
    "y = swiss.Fertility\n",
    "rfe(X, y, 3)"
   ]
  },
  {
   "cell_type": "markdown",
   "id": "fecd0969",
   "metadata": {},
   "source": [
    "\n",
    "**Conclusion**\n",
    "\n",
    "Using Recursive Feature Elimination, we conclude `Agriculture`, `Education`, and `Catholic` are most predictive of `Fertility`.\n",
    "    \n"
   ]
  }
 ],
 "metadata": {
  "kernelspec": {
   "display_name": "Python 3",
   "language": "python",
   "name": "python3"
  },
  "language_info": {
   "codemirror_mode": {
    "name": "ipython",
    "version": 3
   },
   "file_extension": ".py",
   "mimetype": "text/x-python",
   "name": "python",
   "nbconvert_exporter": "python",
   "pygments_lexer": "ipython3",
   "version": "3.8.8"
  }
 },
 "nbformat": 4,
 "nbformat_minor": 5
}
