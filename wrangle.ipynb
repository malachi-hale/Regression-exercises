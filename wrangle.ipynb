{
 "cells": [
  {
   "cell_type": "markdown",
   "id": "155cfc0e",
   "metadata": {},
   "source": [
    "# Wrangle Exercises"
   ]
  },
  {
   "cell_type": "markdown",
   "id": "90addfbe",
   "metadata": {},
   "source": [
    " <tr>\n",
    "    <td> <img src=\"todd-kent-178j8tJrNlc-unsplash.jpg\"/> </td>\n",
    "    <td> <img src=\"scott-webb-1ddol8rgUH8-unsplash.jpg\"/> </td>\n",
    "    </tr>"
   ]
  },
  {
   "cell_type": "markdown",
   "id": "e74215b0",
   "metadata": {},
   "source": [
    "[Source Photo 1](https://unsplash.com/photos/aren8nutd1Q) \n",
    "[Source Photo 2](https://unsplash.com/photos/1ddol8rgUH8)"
   ]
  },
  {
   "cell_type": "markdown",
   "id": "9dc0e18c",
   "metadata": {},
   "source": [
    "As a Codeup data science graduate, you want to show off your skills to the Zillow data science team in hopes of getting an interview for a position you saw pop up on LinkedIn. You thought it might look impressive to build an end-to-end project in which you use some of their Kaggle data to predict property values using some of their available features; who knows, you might even do some feature engineering to blow them away. Your goal is to predict the values of single unit properties using the obervations from 2017."
   ]
  },
  {
   "cell_type": "markdown",
   "id": "f9d8338b",
   "metadata": {},
   "source": [
    "## Import Libraries"
   ]
  },
  {
   "cell_type": "markdown",
   "id": "a3a333b6",
   "metadata": {},
   "source": [
    "First we will import the necessary libraries."
   ]
  },
  {
   "cell_type": "code",
   "execution_count": 73,
   "id": "12d09354",
   "metadata": {},
   "outputs": [],
   "source": [
    "#Disable warnings\n",
    "import warnings\n",
    "warnings.filterwarnings(\"ignore\")\n",
    "\n",
    "#Libraries for processing data\n",
    "import pandas as pd\n",
    "import numpy as np\n",
    "\n",
    "#Import libraries for graphing\n",
    "import matplotlib.pyplot as plt\n",
    "import seaborn as sns\n",
    "\n",
    "#Libraries for obtaining data from SQL databse\n",
    "import env\n",
    "import os\n",
    "\n",
    "#Library for dealing with NA values\n",
    "from sklearn.impute import SimpleImputer"
   ]
  },
  {
   "cell_type": "markdown",
   "id": "3dd62715",
   "metadata": {},
   "source": [
    "## Acquire data"
   ]
  },
  {
   "cell_type": "markdown",
   "id": "66d2acb2",
   "metadata": {},
   "source": [
    "Acquire `bedroomcnt`, `bathroomcnt`, `calculatedfinishedsquarefeet`, `taxvaluedollarcnt`, `yearbuilt`, `taxamount`, and `fips` from the `zillow` database for all 'Single Family Residential' properties."
   ]
  },
  {
   "cell_type": "markdown",
   "id": "28682502",
   "metadata": {},
   "source": [
    "### Connect to SQL server"
   ]
  },
  {
   "cell_type": "markdown",
   "id": "6dd73838",
   "metadata": {},
   "source": [
    "The following function allows us to use our `env.py` file to connect to the SQL database."
   ]
  },
  {
   "cell_type": "code",
   "execution_count": 74,
   "id": "de04ee48",
   "metadata": {},
   "outputs": [],
   "source": [
    "def get_connection(db, user=env.user, host=env.host, password=env.password):\n",
    "    '''\n",
    "     We establish a connection to the SQL database, using my information stored in the env file.\n",
    "    '''\n",
    "    return f'mysql+pymysql://{user}:{password}@{host}/{db}'"
   ]
  },
  {
   "cell_type": "markdown",
   "id": "c5fd0123",
   "metadata": {},
   "source": [
    "### Acquire the data"
   ]
  },
  {
   "cell_type": "markdown",
   "id": "30d15935",
   "metadata": {},
   "source": [
    "The following function acquires data from the SQL server and puts that data into a pandas DataFrame."
   ]
  },
  {
   "cell_type": "code",
   "execution_count": 75,
   "id": "07b01d12",
   "metadata": {},
   "outputs": [],
   "source": [
    "def get_zillow_data():\n",
    "    '''\n",
    "    We will read a SQL query and create a file based on this query. I have also included a line to eliminate duplicate columns because value_counts() does not work if there are duplicate columns in the DataFrame.\n",
    "    '''\n",
    "    filename = \"zillow.csv\"\n",
    "    ##We will write a SQL query to obtain the data\n",
    "    sql = ''' \n",
    "    SELECT bedroomcnt, bathroomcnt, calculatedfinishedsquarefeet,\n",
    "         taxvaluedollarcnt, yearbuilt, taxamount, fips from properties_2017\n",
    "    JOIN propertylandusetype\n",
    "    ON propertylandusetype.propertylandusetypeid = properties_2017.propertylandusetypeid\n",
    "    AND propertylandusetype.propertylandusetypeid = 261 \n",
    "    '''\n",
    "    ##If the file already exists we will simply pull the file.\n",
    "    if os.path.isfile(filename):\n",
    "        return pd.read_csv(filename)\n",
    "    else:\n",
    "        df = pd.read_sql(sql, get_connection('zillow'))\n",
    "        return df"
   ]
  },
  {
   "cell_type": "markdown",
   "id": "925c23c1",
   "metadata": {},
   "source": [
    "Now we will run the function defined above."
   ]
  },
  {
   "cell_type": "code",
   "execution_count": 76,
   "id": "98220540",
   "metadata": {},
   "outputs": [],
   "source": [
    "df = get_zillow_data()"
   ]
  },
  {
   "cell_type": "markdown",
   "id": "3d95a552",
   "metadata": {},
   "source": [
    "### Sample and Summarize data"
   ]
  },
  {
   "cell_type": "markdown",
   "id": "b064a987",
   "metadata": {},
   "source": [
    "We will look at the DataFrame we just created."
   ]
  },
  {
   "cell_type": "code",
   "execution_count": 77,
   "id": "3efd6fce",
   "metadata": {},
   "outputs": [
    {
     "data": {
      "text/html": [
       "<div>\n",
       "<style scoped>\n",
       "    .dataframe tbody tr th:only-of-type {\n",
       "        vertical-align: middle;\n",
       "    }\n",
       "\n",
       "    .dataframe tbody tr th {\n",
       "        vertical-align: top;\n",
       "    }\n",
       "\n",
       "    .dataframe thead th {\n",
       "        text-align: right;\n",
       "    }\n",
       "</style>\n",
       "<table border=\"1\" class=\"dataframe\">\n",
       "  <thead>\n",
       "    <tr style=\"text-align: right;\">\n",
       "      <th></th>\n",
       "      <th>bedroomcnt</th>\n",
       "      <th>bathroomcnt</th>\n",
       "      <th>calculatedfinishedsquarefeet</th>\n",
       "      <th>taxvaluedollarcnt</th>\n",
       "      <th>yearbuilt</th>\n",
       "      <th>taxamount</th>\n",
       "      <th>fips</th>\n",
       "    </tr>\n",
       "  </thead>\n",
       "  <tbody>\n",
       "    <tr>\n",
       "      <th>0</th>\n",
       "      <td>0.0</td>\n",
       "      <td>0.0</td>\n",
       "      <td>NaN</td>\n",
       "      <td>27516.0</td>\n",
       "      <td>NaN</td>\n",
       "      <td>NaN</td>\n",
       "      <td>6037.0</td>\n",
       "    </tr>\n",
       "    <tr>\n",
       "      <th>1</th>\n",
       "      <td>0.0</td>\n",
       "      <td>0.0</td>\n",
       "      <td>NaN</td>\n",
       "      <td>10.0</td>\n",
       "      <td>NaN</td>\n",
       "      <td>NaN</td>\n",
       "      <td>6037.0</td>\n",
       "    </tr>\n",
       "    <tr>\n",
       "      <th>2</th>\n",
       "      <td>0.0</td>\n",
       "      <td>0.0</td>\n",
       "      <td>NaN</td>\n",
       "      <td>10.0</td>\n",
       "      <td>NaN</td>\n",
       "      <td>NaN</td>\n",
       "      <td>6037.0</td>\n",
       "    </tr>\n",
       "    <tr>\n",
       "      <th>3</th>\n",
       "      <td>0.0</td>\n",
       "      <td>0.0</td>\n",
       "      <td>NaN</td>\n",
       "      <td>2108.0</td>\n",
       "      <td>NaN</td>\n",
       "      <td>174.21</td>\n",
       "      <td>6037.0</td>\n",
       "    </tr>\n",
       "    <tr>\n",
       "      <th>4</th>\n",
       "      <td>4.0</td>\n",
       "      <td>2.0</td>\n",
       "      <td>3633.0</td>\n",
       "      <td>296425.0</td>\n",
       "      <td>2005.0</td>\n",
       "      <td>6941.39</td>\n",
       "      <td>6037.0</td>\n",
       "    </tr>\n",
       "  </tbody>\n",
       "</table>\n",
       "</div>"
      ],
      "text/plain": [
       "   bedroomcnt  bathroomcnt  calculatedfinishedsquarefeet  taxvaluedollarcnt  \\\n",
       "0         0.0          0.0                           NaN            27516.0   \n",
       "1         0.0          0.0                           NaN               10.0   \n",
       "2         0.0          0.0                           NaN               10.0   \n",
       "3         0.0          0.0                           NaN             2108.0   \n",
       "4         4.0          2.0                        3633.0           296425.0   \n",
       "\n",
       "   yearbuilt  taxamount    fips  \n",
       "0        NaN        NaN  6037.0  \n",
       "1        NaN        NaN  6037.0  \n",
       "2        NaN        NaN  6037.0  \n",
       "3        NaN     174.21  6037.0  \n",
       "4     2005.0    6941.39  6037.0  "
      ]
     },
     "execution_count": 77,
     "metadata": {},
     "output_type": "execute_result"
    }
   ],
   "source": [
    "df.head()"
   ]
  },
  {
   "cell_type": "markdown",
   "id": "dc12218a",
   "metadata": {},
   "source": [
    "We will display the shape of the data."
   ]
  },
  {
   "cell_type": "code",
   "execution_count": 78,
   "id": "8e143f6b",
   "metadata": {},
   "outputs": [
    {
     "data": {
      "text/plain": [
       "(2152863, 7)"
      ]
     },
     "execution_count": 78,
     "metadata": {},
     "output_type": "execute_result"
    }
   ],
   "source": [
    "df.shape"
   ]
  },
  {
   "cell_type": "markdown",
   "id": "046500e3",
   "metadata": {},
   "source": [
    "We will now display summary statistics for our DataFrame."
   ]
  },
  {
   "cell_type": "code",
   "execution_count": 79,
   "id": "dfb341f6",
   "metadata": {},
   "outputs": [
    {
     "data": {
      "text/html": [
       "<div>\n",
       "<style scoped>\n",
       "    .dataframe tbody tr th:only-of-type {\n",
       "        vertical-align: middle;\n",
       "    }\n",
       "\n",
       "    .dataframe tbody tr th {\n",
       "        vertical-align: top;\n",
       "    }\n",
       "\n",
       "    .dataframe thead th {\n",
       "        text-align: right;\n",
       "    }\n",
       "</style>\n",
       "<table border=\"1\" class=\"dataframe\">\n",
       "  <thead>\n",
       "    <tr style=\"text-align: right;\">\n",
       "      <th></th>\n",
       "      <th>count</th>\n",
       "      <th>mean</th>\n",
       "      <th>std</th>\n",
       "      <th>min</th>\n",
       "      <th>25%</th>\n",
       "      <th>50%</th>\n",
       "      <th>75%</th>\n",
       "      <th>max</th>\n",
       "    </tr>\n",
       "  </thead>\n",
       "  <tbody>\n",
       "    <tr>\n",
       "      <th>bedroomcnt</th>\n",
       "      <td>2152852.0</td>\n",
       "      <td>3.287196</td>\n",
       "      <td>0.954754</td>\n",
       "      <td>0.00</td>\n",
       "      <td>3.00</td>\n",
       "      <td>3.00</td>\n",
       "      <td>4.00</td>\n",
       "      <td>25.00</td>\n",
       "    </tr>\n",
       "    <tr>\n",
       "      <th>bathroomcnt</th>\n",
       "      <td>2152852.0</td>\n",
       "      <td>2.230688</td>\n",
       "      <td>0.999280</td>\n",
       "      <td>0.00</td>\n",
       "      <td>2.00</td>\n",
       "      <td>2.00</td>\n",
       "      <td>3.00</td>\n",
       "      <td>32.00</td>\n",
       "    </tr>\n",
       "    <tr>\n",
       "      <th>calculatedfinishedsquarefeet</th>\n",
       "      <td>2144379.0</td>\n",
       "      <td>1862.855178</td>\n",
       "      <td>1222.125124</td>\n",
       "      <td>1.00</td>\n",
       "      <td>1257.00</td>\n",
       "      <td>1623.00</td>\n",
       "      <td>2208.00</td>\n",
       "      <td>952576.00</td>\n",
       "    </tr>\n",
       "    <tr>\n",
       "      <th>taxvaluedollarcnt</th>\n",
       "      <td>2152370.0</td>\n",
       "      <td>461896.237963</td>\n",
       "      <td>699676.049600</td>\n",
       "      <td>1.00</td>\n",
       "      <td>188170.25</td>\n",
       "      <td>327671.00</td>\n",
       "      <td>534527.00</td>\n",
       "      <td>98428909.00</td>\n",
       "    </tr>\n",
       "    <tr>\n",
       "      <th>yearbuilt</th>\n",
       "      <td>2143526.0</td>\n",
       "      <td>1960.949681</td>\n",
       "      <td>22.162196</td>\n",
       "      <td>1801.00</td>\n",
       "      <td>1949.00</td>\n",
       "      <td>1958.00</td>\n",
       "      <td>1976.00</td>\n",
       "      <td>2016.00</td>\n",
       "    </tr>\n",
       "    <tr>\n",
       "      <th>taxamount</th>\n",
       "      <td>2148421.0</td>\n",
       "      <td>5634.865978</td>\n",
       "      <td>8178.910249</td>\n",
       "      <td>1.85</td>\n",
       "      <td>2534.98</td>\n",
       "      <td>4108.95</td>\n",
       "      <td>6414.32</td>\n",
       "      <td>1337755.86</td>\n",
       "    </tr>\n",
       "    <tr>\n",
       "      <th>fips</th>\n",
       "      <td>2152863.0</td>\n",
       "      <td>6048.377335</td>\n",
       "      <td>20.433292</td>\n",
       "      <td>6037.00</td>\n",
       "      <td>6037.00</td>\n",
       "      <td>6037.00</td>\n",
       "      <td>6059.00</td>\n",
       "      <td>6111.00</td>\n",
       "    </tr>\n",
       "  </tbody>\n",
       "</table>\n",
       "</div>"
      ],
      "text/plain": [
       "                                  count           mean            std  \\\n",
       "bedroomcnt                    2152852.0       3.287196       0.954754   \n",
       "bathroomcnt                   2152852.0       2.230688       0.999280   \n",
       "calculatedfinishedsquarefeet  2144379.0    1862.855178    1222.125124   \n",
       "taxvaluedollarcnt             2152370.0  461896.237963  699676.049600   \n",
       "yearbuilt                     2143526.0    1960.949681      22.162196   \n",
       "taxamount                     2148421.0    5634.865978    8178.910249   \n",
       "fips                          2152863.0    6048.377335      20.433292   \n",
       "\n",
       "                                  min        25%        50%        75%  \\\n",
       "bedroomcnt                       0.00       3.00       3.00       4.00   \n",
       "bathroomcnt                      0.00       2.00       2.00       3.00   \n",
       "calculatedfinishedsquarefeet     1.00    1257.00    1623.00    2208.00   \n",
       "taxvaluedollarcnt                1.00  188170.25  327671.00  534527.00   \n",
       "yearbuilt                     1801.00    1949.00    1958.00    1976.00   \n",
       "taxamount                        1.85    2534.98    4108.95    6414.32   \n",
       "fips                          6037.00    6037.00    6037.00    6059.00   \n",
       "\n",
       "                                      max  \n",
       "bedroomcnt                          25.00  \n",
       "bathroomcnt                         32.00  \n",
       "calculatedfinishedsquarefeet    952576.00  \n",
       "taxvaluedollarcnt             98428909.00  \n",
       "yearbuilt                         2016.00  \n",
       "taxamount                      1337755.86  \n",
       "fips                              6111.00  "
      ]
     },
     "execution_count": 79,
     "metadata": {},
     "output_type": "execute_result"
    }
   ],
   "source": [
    "df.describe().T"
   ]
  },
  {
   "cell_type": "markdown",
   "id": "89984afe",
   "metadata": {},
   "source": [
    "We will get the DataFrame's info."
   ]
  },
  {
   "cell_type": "code",
   "execution_count": 80,
   "id": "41c66805",
   "metadata": {},
   "outputs": [
    {
     "name": "stdout",
     "output_type": "stream",
     "text": [
      "<class 'pandas.core.frame.DataFrame'>\n",
      "RangeIndex: 2152863 entries, 0 to 2152862\n",
      "Data columns (total 7 columns):\n",
      " #   Column                        Dtype  \n",
      "---  ------                        -----  \n",
      " 0   bedroomcnt                    float64\n",
      " 1   bathroomcnt                   float64\n",
      " 2   calculatedfinishedsquarefeet  float64\n",
      " 3   taxvaluedollarcnt             float64\n",
      " 4   yearbuilt                     float64\n",
      " 5   taxamount                     float64\n",
      " 6   fips                          float64\n",
      "dtypes: float64(7)\n",
      "memory usage: 115.0 MB\n"
     ]
    }
   ],
   "source": [
    "df.info()"
   ]
  },
  {
   "cell_type": "markdown",
   "id": "784b3568",
   "metadata": {},
   "source": [
    "All of our columns have the datatype `float64`."
   ]
  },
  {
   "cell_type": "markdown",
   "id": "a40d3ffd",
   "metadata": {},
   "source": [
    "### Acquire and Summarize \n",
    " - Our DataFrame has 2,152,863 rows and 7 columns.\n",
    " - All of our columns are in the `float64` datatype."
   ]
  },
  {
   "cell_type": "markdown",
   "id": "8345bcc3",
   "metadata": {},
   "source": [
    "## Prepare the Data"
   ]
  },
  {
   "cell_type": "markdown",
   "id": "c217de1c",
   "metadata": {},
   "source": [
    "### Finding Null Values"
   ]
  },
  {
   "cell_type": "markdown",
   "id": "8dd8ba1d",
   "metadata": {},
   "source": [
    "We will find the total number of null values for each column in our DataFrame."
   ]
  },
  {
   "cell_type": "code",
   "execution_count": 81,
   "id": "2684cec6",
   "metadata": {},
   "outputs": [
    {
     "data": {
      "text/plain": [
       "bedroomcnt                        11\n",
       "bathroomcnt                       11\n",
       "calculatedfinishedsquarefeet    8484\n",
       "taxvaluedollarcnt                493\n",
       "yearbuilt                       9337\n",
       "taxamount                       4442\n",
       "fips                               0\n",
       "dtype: int64"
      ]
     },
     "execution_count": 81,
     "metadata": {},
     "output_type": "execute_result"
    }
   ],
   "source": [
    "df.isnull().sum()"
   ]
  },
  {
   "cell_type": "markdown",
   "id": "ca110613",
   "metadata": {},
   "source": [
    "All of our columns except for `fips` has null values. There are so many null values, simply dropping the null values will damage our analysis. For example, we cannot simply drop 9,337 columns from the `yearbuilt` column. Thus, we will need to find a way to replace the null values in these columns."
   ]
  },
  {
   "cell_type": "markdown",
   "id": "4b6290ab",
   "metadata": {},
   "source": [
    "### Impute Null Values"
   ]
  },
  {
   "cell_type": "markdown",
   "id": "67a727d9",
   "metadata": {},
   "source": [
    "We will use the imputation transformer to fill the missing values in our DataFrame. We will take the mean of each column to replace the missing values."
   ]
  },
  {
   "cell_type": "code",
   "execution_count": 82,
   "id": "8afb88e0",
   "metadata": {},
   "outputs": [
    {
     "data": {
      "text/plain": [
       "bedroomcnt                      0\n",
       "bathroomcnt                     0\n",
       "calculatedfinishedsquarefeet    0\n",
       "taxvaluedollarcnt               0\n",
       "yearbuilt                       0\n",
       "taxamount                       0\n",
       "fips                            0\n",
       "dtype: int64"
      ]
     },
     "execution_count": 82,
     "metadata": {},
     "output_type": "execute_result"
    }
   ],
   "source": [
    "#We will use the mean imputer function.\n",
    "imputer = SimpleImputer(strategy='mean')\n",
    "\n",
    "#We will create a for loop that will impute all the null values in each one of our columns.\n",
    "for col in df.columns:\n",
    "    df[[col]] = imputer.fit_transform(df[[col]])\n",
    "\n",
    "#Now we will check the amount of null values in each column.\n",
    "df.isnull().sum()      "
   ]
  },
  {
   "cell_type": "markdown",
   "id": "18deef23",
   "metadata": {},
   "source": [
    "### Eliminate Outliers"
   ]
  },
  {
   "cell_type": "markdown",
   "id": "393684ee",
   "metadata": {},
   "source": [
    "The following function will remove outliers from our DataFrame. We can choose a `k` value. The higher the `k` value, we choose, the more outliers we keep."
   ]
  },
  {
   "cell_type": "code",
   "execution_count": 83,
   "id": "7c08b603",
   "metadata": {},
   "outputs": [],
   "source": [
    "def remove_outliers(df, k, col_list):\n",
    "    ''' remove outliers from a list of columns in a dataframe \n",
    "        and return that dataframe\n",
    "    '''\n",
    "    \n",
    "    for col in col_list:\n",
    "\n",
    "        q1, q3 = df[col].quantile([.25, .75])  # get quartiles\n",
    "        \n",
    "        iqr = q3 - q1   # calculate interquartile range\n",
    "        \n",
    "        upper_bound = q3 + k * iqr   # get upper bound\n",
    "        lower_bound = q1 - k * iqr   # get lower bound\n",
    "\n",
    "        # return dataframe without outliers\n",
    "        \n",
    "        df = df[(df[col] > lower_bound) & (df[col] < upper_bound)]\n",
    "        \n",
    "    return df"
   ]
  },
  {
   "cell_type": "code",
   "execution_count": 84,
   "id": "833e3d06",
   "metadata": {},
   "outputs": [],
   "source": [
    "df = remove_outliers(df, 3, df.columns)"
   ]
  },
  {
   "cell_type": "markdown",
   "id": "d7202f80",
   "metadata": {},
   "source": [
    "We have replaced every null value in the DataFrame. Our DataFrame is now ready for us to explore."
   ]
  },
  {
   "cell_type": "markdown",
   "id": "b241b8ce",
   "metadata": {},
   "source": [
    "## Visualize Distributions"
   ]
  },
  {
   "cell_type": "markdown",
   "id": "c6cdcf60",
   "metadata": {},
   "source": [
    "We will plot the data to see the distributions of single variables and check for skewness, outliers, and unit scales. \n",
    "\n",
    "Since we are exploring single variables, we do not need to split our data."
   ]
  },
  {
   "cell_type": "markdown",
   "id": "a7d4dfa1",
   "metadata": {},
   "source": [
    "### Bedroom Count Distribution"
   ]
  },
  {
   "cell_type": "code",
   "execution_count": 85,
   "id": "291a0422",
   "metadata": {},
   "outputs": [
    {
     "data": {
      "image/png": "[encoded data removed]",
      "text/plain": [
       "<Figure size 432x288 with 1 Axes>"
      ]
     },
     "metadata": {
      "needs_background": "light"
     },
     "output_type": "display_data"
    }
   ],
   "source": [
    "bedroom_count = sns.histplot(data=df, x=\"bedroomcnt\", discrete = True)"
   ]
  },
  {
   "cell_type": "markdown",
   "id": "aad133ac",
   "metadata": {},
   "source": [
    "### Bathroom Count Distribution"
   ]
  },
  {
   "cell_type": "code",
   "execution_count": 86,
   "id": "575d3cde",
   "metadata": {},
   "outputs": [
    {
     "data": {
      "image/png": "[encoded data removed]",
      "text/plain": [
       "<Figure size 432x288 with 1 Axes>"
      ]
     },
     "metadata": {
      "needs_background": "light"
     },
     "output_type": "display_data"
    }
   ],
   "source": [
    "bathroom_count = sns.histplot(data=df, x=\"bathroomcnt\", discrete = True)"
   ]
  },
  {
   "cell_type": "markdown",
   "id": "5db26248",
   "metadata": {},
   "source": [
    "### Square feet distribution"
   ]
  },
  {
   "cell_type": "code",
   "execution_count": 87,
   "id": "7f68d586",
   "metadata": {},
   "outputs": [
    {
     "data": {
      "image/png": "[encoded data removed]",
      "text/plain": [
       "<Figure size 432x288 with 1 Axes>"
      ]
     },
     "metadata": {
      "needs_background": "light"
     },
     "output_type": "display_data"
    }
   ],
   "source": [
    "square_feet_log_scale = sns.histplot(data=df, x=\"calculatedfinishedsquarefeet\")"
   ]
  },
  {
   "cell_type": "markdown",
   "id": "3c923c62",
   "metadata": {},
   "source": [
    "### Tax value distribution"
   ]
  },
  {
   "cell_type": "code",
   "execution_count": 88,
   "id": "783b917b",
   "metadata": {},
   "outputs": [
    {
     "data": {
      "image/png": "[encoded data removed]",
      "text/plain": [
       "<Figure size 432x288 with 1 Axes>"
      ]
     },
     "metadata": {
      "needs_background": "light"
     },
     "output_type": "display_data"
    }
   ],
   "source": [
    "tax_value = sns.histplot(data = df, x = \"taxvaluedollarcnt\")"
   ]
  },
  {
   "cell_type": "markdown",
   "id": "343ce200",
   "metadata": {},
   "source": [
    "### Year built distribution"
   ]
  },
  {
   "cell_type": "code",
   "execution_count": 89,
   "id": "be1361b4",
   "metadata": {},
   "outputs": [
    {
     "data": {
      "image/png": "[encoded data removed]",
      "text/plain": [
       "<Figure size 432x288 with 1 Axes>"
      ]
     },
     "metadata": {
      "needs_background": "light"
     },
     "output_type": "display_data"
    }
   ],
   "source": [
    "yearbuilt_graph = sns.histplot(data=df, x=\"yearbuilt\", discrete = True)"
   ]
  },
  {
   "cell_type": "markdown",
   "id": "90e5a2fa",
   "metadata": {},
   "source": [
    "### Fips distribution"
   ]
  },
  {
   "cell_type": "code",
   "execution_count": 90,
   "id": "39ce226c",
   "metadata": {},
   "outputs": [
    {
     "data": {
      "image/png": "[encoded data removed]",
      "text/plain": [
       "<Figure size 432x288 with 1 Axes>"
      ]
     },
     "metadata": {
      "needs_background": "light"
     },
     "output_type": "display_data"
    }
   ],
   "source": [
    "fips_graph = sns.countplot(data =df, x =\"fips\")"
   ]
  },
  {
   "cell_type": "markdown",
   "id": "4eb931fb",
   "metadata": {},
   "source": [
    "![title](vu-anh-TiVPTYCG_3E-unsplash.jpg)"
   ]
  },
  {
   "cell_type": "markdown",
   "id": "be6923ef",
   "metadata": {},
   "source": [
    "[Source Photo 3](https://unsplash.com/photos/TiVPTYCG_3E)"
   ]
  }
 ],
 "metadata": {
  "kernelspec": {
   "display_name": "Python 3",
   "language": "python",
   "name": "python3"
  },
  "language_info": {
   "codemirror_mode": {
    "name": "ipython",
    "version": 3
   },
   "file_extension": ".py",
   "mimetype": "text/x-python",
   "name": "python",
   "nbconvert_exporter": "python",
   "pygments_lexer": "ipython3",
   "version": "3.8.8"
  }
 },
 "nbformat": 4,
 "nbformat_minor": 5
}
