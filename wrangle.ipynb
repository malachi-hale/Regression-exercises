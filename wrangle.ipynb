{
 "cells": [
  {
   "cell_type": "markdown",
   "id": "155cfc0e",
   "metadata": {},
   "source": [
    "# Wrangle Exercises"
   ]
  },
  {
   "cell_type": "markdown",
   "id": "90addfbe",
   "metadata": {},
   "source": [
    " <tr>\n",
    "    <td> <img src=\"sieuwert-otterloo-aren8nutd1Q-unsplash-2.jpg\"/> </td>\n",
    "    <td> <img src=\"webaliser-_TPTXZd9mOo-unsplash.jpg\"/> </td>\n",
    "    </tr>"
   ]
  },
  {
   "cell_type": "markdown",
   "id": "e74215b0",
   "metadata": {},
   "source": [
    "[Source Photo 1](https://unsplash.com/photos/aren8nutd1Q) \n",
    "[Source Photo 2](https://unsplash.com/photos/_TPTXZd9mOo)"
   ]
  },
  {
   "cell_type": "markdown",
   "id": "9dc0e18c",
   "metadata": {},
   "source": [
    "## Background\n",
    "\n",
    "As a Codeup data science graduate, you want to show off your skills to the Zillow data science team in hopes of getting an interview for a position you saw pop up on LinkedIn. You thought it might look impressive to build an end-to-end project in which you use some of their Kaggle data to predict property values using some of their available features; who knows, you might even do some feature engineering to blow them away. Your goal is to predict the values of single unit properties using the obervations from 2017."
   ]
  },
  {
   "cell_type": "markdown",
   "id": "f9d8338b",
   "metadata": {},
   "source": [
    "## Import Libraries"
   ]
  },
  {
   "cell_type": "markdown",
   "id": "a3a333b6",
   "metadata": {},
   "source": [
    "First we will import the necessary libraries."
   ]
  },
  {
   "cell_type": "code",
   "execution_count": 1,
   "id": "12d09354",
   "metadata": {},
   "outputs": [],
   "source": [
    "#Disable warnings\n",
    "import warnings\n",
    "warnings.filterwarnings(\"ignore\")\n",
    "\n",
    "#Libraries for processing data\n",
    "import pandas as pd\n",
    "import numpy as np\n",
    "\n",
    "#Import libraries for graphing\n",
    "import matplotlib.pyplot as plt\n",
    "import seaborn as sns\n",
    "\n",
    "#Libraries for obtaining data from SQL databse\n",
    "import env\n",
    "import os\n",
    "\n",
    "#Library for dealing with NA values\n",
    "from sklearn.impute import SimpleImputer"
   ]
  },
  {
   "cell_type": "markdown",
   "id": "3dd62715",
   "metadata": {},
   "source": [
    "## Acquire data"
   ]
  },
  {
   "cell_type": "markdown",
   "id": "66d2acb2",
   "metadata": {},
   "source": [
    "Acquire `bedroomcnt`, `bathroomcnt`, `calculatedfinishedsquarefeet`, `taxvaluedollarcnt`, `yearbuilt`, `taxamount`, and `fips` from the `zillow` database for all 'Single Family Residential' properties."
   ]
  },
  {
   "cell_type": "markdown",
   "id": "e09913bc",
   "metadata": {},
   "source": [
    "#### Note\n",
    "\n",
    "The `fips` column indicates the FIPS county code (Federal Information Processing Standards) is a five digit code which indicates the county in which a property is located. In this case, we have three FIPS code. All of these three codes indicate coastal Southern California counties. The counties indicated by these FIPS codes are:\n",
    " - 6037: Los Angeles County, <img src = \"sterling-davis-4iXagiKXn3Y-unsplash.jpg\"/>\n",
    " - 6059: Orange County, <img src=\"derek-liang-N61-GGQAp6Y-unsplash.jpg\"/>\n",
    " - 6111: Ventura County. <img src = \"pexels-isaac-taylor-1541218.jpg\"/>\n",
    "[Source Photo 3](https://unsplash.com/photos/4iXagiKXn3Y) \n",
    "[Source Photo 4](https://unsplash.com/photos/N61-GGQAp6Y)\n",
    "[Source Photo 5](https://www.pexels.com/photo/view-of-houses-on-shore-1541218/) "
   ]
  },
  {
   "cell_type": "markdown",
   "id": "28682502",
   "metadata": {},
   "source": [
    "### Connect to SQL server"
   ]
  },
  {
   "cell_type": "markdown",
   "id": "6dd73838",
   "metadata": {},
   "source": [
    "The following function allows us to use our `env.py` file to connect to the SQL database. To use this function, you will need to have your own `env` file, housing your username, password, and host name. My `env.py` file is hidden for privacy reasons."
   ]
  },
  {
   "cell_type": "code",
   "execution_count": 2,
   "id": "de04ee48",
   "metadata": {},
   "outputs": [],
   "source": [
    "def get_connection(db, user=env.user, host=env.host, password=env.password):\n",
    "    '''\n",
    "     We establish a connection to the SQL database, using my information stored in the env file.\n",
    "    '''\n",
    "    return f'mysql+pymysql://{user}:{password}@{host}/{db}'"
   ]
  },
  {
   "cell_type": "markdown",
   "id": "c5fd0123",
   "metadata": {},
   "source": [
    "### Acquire the data"
   ]
  },
  {
   "cell_type": "markdown",
   "id": "30d15935",
   "metadata": {},
   "source": [
    "The following function acquires data from the SQL server and puts that data into a pandas DataFrame. \n",
    "\n",
    "This project specifies that we are only looking at properties listed in 2017, so in our SQL query, we pull data from the table `properties_2017`. In the SQL query, we also join the table `propertylandusetype`. We join this table because specified earlier that we only want to look at single-family homes. The `propertylandusetype` has a column `propertylandusetypeid`. We indicated in our SQL query that we want only properties with `propertylandusetypeid = 261`. The code for single-family homes is 261."
   ]
  },
  {
   "cell_type": "code",
   "execution_count": 3,
   "id": "07b01d12",
   "metadata": {},
   "outputs": [],
   "source": [
    "def get_zillow_data():\n",
    "    '''\n",
    "    We will read a SQL query and create a file based on this query.\n",
    "    '''\n",
    "    filename = \"zillow.csv\"\n",
    "    ##We will write a SQL query to obtain the data\n",
    "    sql = ''' \n",
    "    SELECT bedroomcnt, bathroomcnt, calculatedfinishedsquarefeet,\n",
    "         taxvaluedollarcnt, yearbuilt, taxamount, fips FROM properties_2017\n",
    "    JOIN propertylandusetype\n",
    "    ON propertylandusetype.propertylandusetypeid = properties_2017.propertylandusetypeid\n",
    "    AND propertylandusetype.propertylandusetypeid = 261 \n",
    "    '''\n",
    "    ##If the file already exists we will simply pull the file.\n",
    "    if os.path.isfile(filename):\n",
    "        return pd.read_csv(filename)\n",
    "    ##If the file does not exist, we run the SQL query again and create a new DataFrame.\n",
    "    else:\n",
    "        df = pd.read_sql(sql, get_connection('zillow'))\n",
    "        return df"
   ]
  },
  {
   "cell_type": "markdown",
   "id": "925c23c1",
   "metadata": {},
   "source": [
    "Now we will run the function defined above to pull the Zillow data into a pandas DataFrame."
   ]
  },
  {
   "cell_type": "code",
   "execution_count": 4,
   "id": "98220540",
   "metadata": {},
   "outputs": [],
   "source": [
    "df = get_zillow_data()"
   ]
  },
  {
   "cell_type": "markdown",
   "id": "3d95a552",
   "metadata": {},
   "source": [
    "### Sample and Summarize data"
   ]
  },
  {
   "cell_type": "markdown",
   "id": "b064a987",
   "metadata": {},
   "source": [
    "We will look at the DataFrame we just created. Let's start by looking at the head of the table."
   ]
  },
  {
   "cell_type": "code",
   "execution_count": 5,
   "id": "3efd6fce",
   "metadata": {
    "scrolled": true
   },
   "outputs": [
    {
     "data": {
      "text/html": [
       "<div>\n",
       "<style scoped>\n",
       "    .dataframe tbody tr th:only-of-type {\n",
       "        vertical-align: middle;\n",
       "    }\n",
       "\n",
       "    .dataframe tbody tr th {\n",
       "        vertical-align: top;\n",
       "    }\n",
       "\n",
       "    .dataframe thead th {\n",
       "        text-align: right;\n",
       "    }\n",
       "</style>\n",
       "<table border=\"1\" class=\"dataframe\">\n",
       "  <thead>\n",
       "    <tr style=\"text-align: right;\">\n",
       "      <th></th>\n",
       "      <th>bedroomcnt</th>\n",
       "      <th>bathroomcnt</th>\n",
       "      <th>calculatedfinishedsquarefeet</th>\n",
       "      <th>taxvaluedollarcnt</th>\n",
       "      <th>yearbuilt</th>\n",
       "      <th>taxamount</th>\n",
       "      <th>fips</th>\n",
       "    </tr>\n",
       "  </thead>\n",
       "  <tbody>\n",
       "    <tr>\n",
       "      <th>0</th>\n",
       "      <td>0.0</td>\n",
       "      <td>0.0</td>\n",
       "      <td>NaN</td>\n",
       "      <td>27516.0</td>\n",
       "      <td>NaN</td>\n",
       "      <td>NaN</td>\n",
       "      <td>6037.0</td>\n",
       "    </tr>\n",
       "    <tr>\n",
       "      <th>1</th>\n",
       "      <td>0.0</td>\n",
       "      <td>0.0</td>\n",
       "      <td>NaN</td>\n",
       "      <td>10.0</td>\n",
       "      <td>NaN</td>\n",
       "      <td>NaN</td>\n",
       "      <td>6037.0</td>\n",
       "    </tr>\n",
       "    <tr>\n",
       "      <th>2</th>\n",
       "      <td>0.0</td>\n",
       "      <td>0.0</td>\n",
       "      <td>NaN</td>\n",
       "      <td>10.0</td>\n",
       "      <td>NaN</td>\n",
       "      <td>NaN</td>\n",
       "      <td>6037.0</td>\n",
       "    </tr>\n",
       "    <tr>\n",
       "      <th>3</th>\n",
       "      <td>0.0</td>\n",
       "      <td>0.0</td>\n",
       "      <td>NaN</td>\n",
       "      <td>2108.0</td>\n",
       "      <td>NaN</td>\n",
       "      <td>174.21</td>\n",
       "      <td>6037.0</td>\n",
       "    </tr>\n",
       "    <tr>\n",
       "      <th>4</th>\n",
       "      <td>4.0</td>\n",
       "      <td>2.0</td>\n",
       "      <td>3633.0</td>\n",
       "      <td>296425.0</td>\n",
       "      <td>2005.0</td>\n",
       "      <td>6941.39</td>\n",
       "      <td>6037.0</td>\n",
       "    </tr>\n",
       "  </tbody>\n",
       "</table>\n",
       "</div>"
      ],
      "text/plain": [
       "   bedroomcnt  bathroomcnt  calculatedfinishedsquarefeet  taxvaluedollarcnt  \\\n",
       "0         0.0          0.0                           NaN            27516.0   \n",
       "1         0.0          0.0                           NaN               10.0   \n",
       "2         0.0          0.0                           NaN               10.0   \n",
       "3         0.0          0.0                           NaN             2108.0   \n",
       "4         4.0          2.0                        3633.0           296425.0   \n",
       "\n",
       "   yearbuilt  taxamount    fips  \n",
       "0        NaN        NaN  6037.0  \n",
       "1        NaN        NaN  6037.0  \n",
       "2        NaN        NaN  6037.0  \n",
       "3        NaN     174.21  6037.0  \n",
       "4     2005.0    6941.39  6037.0  "
      ]
     },
     "execution_count": 5,
     "metadata": {},
     "output_type": "execute_result"
    }
   ],
   "source": [
    "df.head()"
   ]
  },
  {
   "cell_type": "markdown",
   "id": "dc12218a",
   "metadata": {},
   "source": [
    "Right away, we notice that this table has many null values. We will now display the shape of the data."
   ]
  },
  {
   "cell_type": "code",
   "execution_count": 6,
   "id": "8e143f6b",
   "metadata": {},
   "outputs": [
    {
     "data": {
      "text/plain": [
       "(2152863, 7)"
      ]
     },
     "execution_count": 6,
     "metadata": {},
     "output_type": "execute_result"
    }
   ],
   "source": [
    "df.shape"
   ]
  },
  {
   "cell_type": "markdown",
   "id": "046500e3",
   "metadata": {},
   "source": [
    "This table has 2,152,863 rows and 7 columns. We will now display summary statistics for our DataFrame."
   ]
  },
  {
   "cell_type": "code",
   "execution_count": 7,
   "id": "dfb341f6",
   "metadata": {},
   "outputs": [
    {
     "data": {
      "text/html": [
       "<div>\n",
       "<style scoped>\n",
       "    .dataframe tbody tr th:only-of-type {\n",
       "        vertical-align: middle;\n",
       "    }\n",
       "\n",
       "    .dataframe tbody tr th {\n",
       "        vertical-align: top;\n",
       "    }\n",
       "\n",
       "    .dataframe thead th {\n",
       "        text-align: right;\n",
       "    }\n",
       "</style>\n",
       "<table border=\"1\" class=\"dataframe\">\n",
       "  <thead>\n",
       "    <tr style=\"text-align: right;\">\n",
       "      <th></th>\n",
       "      <th>count</th>\n",
       "      <th>mean</th>\n",
       "      <th>std</th>\n",
       "      <th>min</th>\n",
       "      <th>25%</th>\n",
       "      <th>50%</th>\n",
       "      <th>75%</th>\n",
       "      <th>max</th>\n",
       "    </tr>\n",
       "  </thead>\n",
       "  <tbody>\n",
       "    <tr>\n",
       "      <th>bedroomcnt</th>\n",
       "      <td>2152852.0</td>\n",
       "      <td>3.287196</td>\n",
       "      <td>0.954754</td>\n",
       "      <td>0.00</td>\n",
       "      <td>3.00</td>\n",
       "      <td>3.00</td>\n",
       "      <td>4.00</td>\n",
       "      <td>25.00</td>\n",
       "    </tr>\n",
       "    <tr>\n",
       "      <th>bathroomcnt</th>\n",
       "      <td>2152852.0</td>\n",
       "      <td>2.230688</td>\n",
       "      <td>0.999280</td>\n",
       "      <td>0.00</td>\n",
       "      <td>2.00</td>\n",
       "      <td>2.00</td>\n",
       "      <td>3.00</td>\n",
       "      <td>32.00</td>\n",
       "    </tr>\n",
       "    <tr>\n",
       "      <th>calculatedfinishedsquarefeet</th>\n",
       "      <td>2144379.0</td>\n",
       "      <td>1862.855178</td>\n",
       "      <td>1222.125124</td>\n",
       "      <td>1.00</td>\n",
       "      <td>1257.00</td>\n",
       "      <td>1623.00</td>\n",
       "      <td>2208.00</td>\n",
       "      <td>952576.00</td>\n",
       "    </tr>\n",
       "    <tr>\n",
       "      <th>taxvaluedollarcnt</th>\n",
       "      <td>2152370.0</td>\n",
       "      <td>461896.237963</td>\n",
       "      <td>699676.049600</td>\n",
       "      <td>1.00</td>\n",
       "      <td>188170.25</td>\n",
       "      <td>327671.00</td>\n",
       "      <td>534527.00</td>\n",
       "      <td>98428909.00</td>\n",
       "    </tr>\n",
       "    <tr>\n",
       "      <th>yearbuilt</th>\n",
       "      <td>2143526.0</td>\n",
       "      <td>1960.949681</td>\n",
       "      <td>22.162196</td>\n",
       "      <td>1801.00</td>\n",
       "      <td>1949.00</td>\n",
       "      <td>1958.00</td>\n",
       "      <td>1976.00</td>\n",
       "      <td>2016.00</td>\n",
       "    </tr>\n",
       "    <tr>\n",
       "      <th>taxamount</th>\n",
       "      <td>2148421.0</td>\n",
       "      <td>5634.865978</td>\n",
       "      <td>8178.910249</td>\n",
       "      <td>1.85</td>\n",
       "      <td>2534.98</td>\n",
       "      <td>4108.95</td>\n",
       "      <td>6414.32</td>\n",
       "      <td>1337755.86</td>\n",
       "    </tr>\n",
       "    <tr>\n",
       "      <th>fips</th>\n",
       "      <td>2152863.0</td>\n",
       "      <td>6048.377335</td>\n",
       "      <td>20.433292</td>\n",
       "      <td>6037.00</td>\n",
       "      <td>6037.00</td>\n",
       "      <td>6037.00</td>\n",
       "      <td>6059.00</td>\n",
       "      <td>6111.00</td>\n",
       "    </tr>\n",
       "  </tbody>\n",
       "</table>\n",
       "</div>"
      ],
      "text/plain": [
       "                                  count           mean            std  \\\n",
       "bedroomcnt                    2152852.0       3.287196       0.954754   \n",
       "bathroomcnt                   2152852.0       2.230688       0.999280   \n",
       "calculatedfinishedsquarefeet  2144379.0    1862.855178    1222.125124   \n",
       "taxvaluedollarcnt             2152370.0  461896.237963  699676.049600   \n",
       "yearbuilt                     2143526.0    1960.949681      22.162196   \n",
       "taxamount                     2148421.0    5634.865978    8178.910249   \n",
       "fips                          2152863.0    6048.377335      20.433292   \n",
       "\n",
       "                                  min        25%        50%        75%  \\\n",
       "bedroomcnt                       0.00       3.00       3.00       4.00   \n",
       "bathroomcnt                      0.00       2.00       2.00       3.00   \n",
       "calculatedfinishedsquarefeet     1.00    1257.00    1623.00    2208.00   \n",
       "taxvaluedollarcnt                1.00  188170.25  327671.00  534527.00   \n",
       "yearbuilt                     1801.00    1949.00    1958.00    1976.00   \n",
       "taxamount                        1.85    2534.98    4108.95    6414.32   \n",
       "fips                          6037.00    6037.00    6037.00    6059.00   \n",
       "\n",
       "                                      max  \n",
       "bedroomcnt                          25.00  \n",
       "bathroomcnt                         32.00  \n",
       "calculatedfinishedsquarefeet    952576.00  \n",
       "taxvaluedollarcnt             98428909.00  \n",
       "yearbuilt                         2016.00  \n",
       "taxamount                      1337755.86  \n",
       "fips                              6111.00  "
      ]
     },
     "execution_count": 7,
     "metadata": {},
     "output_type": "execute_result"
    }
   ],
   "source": [
    "df.describe().T"
   ]
  },
  {
   "cell_type": "markdown",
   "id": "89984afe",
   "metadata": {},
   "source": [
    "We notice from our summary statistics that most of our columns has a very wide range. For example, our properties range from 0 bedrooms up to 25 total bedrooms. This may mean that we have outliers in the data that we should eliminate. We will determine later on if the data indeed has outliers.\n",
    "\n",
    "Now we will get the DataFrame's info."
   ]
  },
  {
   "cell_type": "code",
   "execution_count": 8,
   "id": "41c66805",
   "metadata": {},
   "outputs": [
    {
     "name": "stdout",
     "output_type": "stream",
     "text": [
      "<class 'pandas.core.frame.DataFrame'>\n",
      "RangeIndex: 2152863 entries, 0 to 2152862\n",
      "Data columns (total 7 columns):\n",
      " #   Column                        Dtype  \n",
      "---  ------                        -----  \n",
      " 0   bedroomcnt                    float64\n",
      " 1   bathroomcnt                   float64\n",
      " 2   calculatedfinishedsquarefeet  float64\n",
      " 3   taxvaluedollarcnt             float64\n",
      " 4   yearbuilt                     float64\n",
      " 5   taxamount                     float64\n",
      " 6   fips                          float64\n",
      "dtypes: float64(7)\n",
      "memory usage: 115.0 MB\n"
     ]
    }
   ],
   "source": [
    "df.info()"
   ]
  },
  {
   "cell_type": "markdown",
   "id": "784b3568",
   "metadata": {},
   "source": [
    "All of our columns have the datatype `float64`."
   ]
  },
  {
   "cell_type": "markdown",
   "id": "a40d3ffd",
   "metadata": {},
   "source": [
    "### Acquire and Summarize Takeaways\n",
    " - Our DataFrame has 2,152,863 rows and 7 columns.\n",
    " - All of our columns are in the `float64` datatype.\n",
    " - The data columns have a wide range of values. This may indicate that the data contains outliers."
   ]
  },
  {
   "cell_type": "markdown",
   "id": "8345bcc3",
   "metadata": {},
   "source": [
    "## Prepare the Data"
   ]
  },
  {
   "cell_type": "markdown",
   "id": "368cf7bf",
   "metadata": {},
   "source": [
    "Recall from our Acquire stage that the DataFrame has many `NaN` values. Thus, in the Prepare stage we will need to find a way to either replace or eliminate the null values."
   ]
  },
  {
   "cell_type": "markdown",
   "id": "c217de1c",
   "metadata": {},
   "source": [
    "### Finding Null Values"
   ]
  },
  {
   "cell_type": "markdown",
   "id": "8dd8ba1d",
   "metadata": {},
   "source": [
    "We will start out by finding the total number of null values for each column in our DataFrame. If there are a small number of null values, we may simply be able to drop the null values."
   ]
  },
  {
   "cell_type": "code",
   "execution_count": 9,
   "id": "2684cec6",
   "metadata": {},
   "outputs": [
    {
     "data": {
      "text/plain": [
       "bedroomcnt                        11\n",
       "bathroomcnt                       11\n",
       "calculatedfinishedsquarefeet    8484\n",
       "taxvaluedollarcnt                493\n",
       "yearbuilt                       9337\n",
       "taxamount                       4442\n",
       "fips                               0\n",
       "dtype: int64"
      ]
     },
     "execution_count": 9,
     "metadata": {},
     "output_type": "execute_result"
    }
   ],
   "source": [
    "df.isnull().sum()"
   ]
  },
  {
   "cell_type": "markdown",
   "id": "ca110613",
   "metadata": {},
   "source": [
    "All of our columns except for `fips` has null values. There are so many null values, simply dropping the null values will damage our analysis. For example, the `yearbuilt` column has 9,337 null values. We cannot simply drop 9,337 rows woth of data! Thus, we will need to find a way to replace the null values in these columns. This leads us to the imputation transformer below."
   ]
  },
  {
   "cell_type": "markdown",
   "id": "4b6290ab",
   "metadata": {},
   "source": [
    "### Impute Null Values"
   ]
  },
  {
   "cell_type": "markdown",
   "id": "67a727d9",
   "metadata": {},
   "source": [
    "We will use the imputation transformer to fill the missing values in our DataFrame. We will use the imputation transformer with strategy set to 'mean'.\n",
    "```python \n",
    "strategy='mean' \n",
    "``` \n",
    "This transformer takes the mean of each column and uses that mean value to replace every `NaN` null value in the column. We will create a for loop to run through each column in our `df` DataFrame, replacing every `NaN` null value with the mean value for that column."
   ]
  },
  {
   "cell_type": "code",
   "execution_count": 10,
   "id": "8afb88e0",
   "metadata": {},
   "outputs": [
    {
     "data": {
      "text/plain": [
       "bedroomcnt                      0\n",
       "bathroomcnt                     0\n",
       "calculatedfinishedsquarefeet    0\n",
       "taxvaluedollarcnt               0\n",
       "yearbuilt                       0\n",
       "taxamount                       0\n",
       "fips                            0\n",
       "dtype: int64"
      ]
     },
     "execution_count": 10,
     "metadata": {},
     "output_type": "execute_result"
    }
   ],
   "source": [
    "#We will use the mean imputer function.\n",
    "imputer = SimpleImputer(strategy='mean')\n",
    "\n",
    "#We will create a for loop that will impute all the null values in each one of our columns.\n",
    "for col in df.columns:\n",
    "    df[[col]] = imputer.fit_transform(df[[col]])\n",
    "\n",
    "#Now we will check the amount of null values in each column.\n",
    "df.isnull().sum()      "
   ]
  },
  {
   "cell_type": "markdown",
   "id": "847900ae",
   "metadata": {},
   "source": [
    "We have successfully eliminate all our `NaN` null values. We can now move on to the next step of preparing our function, removing outliers."
   ]
  },
  {
   "cell_type": "markdown",
   "id": "18deef23",
   "metadata": {},
   "source": [
    "### Eliminate Outliers"
   ]
  },
  {
   "cell_type": "markdown",
   "id": "393684ee",
   "metadata": {},
   "source": [
    "Recall from the Acquire stage that when we ran summary statistics of our `df` DataFrame, we saw that the data in each column has a wide range. This indicates to us that there may be outliers in the data.\n",
    "\n",
    "The following `remove_outliers` function will\n",
    " 1. detect outliers in the DataFrame, and\n",
    " 2. remove outliers from our DataFrame, if detected. \n",
    "    \n",
    "We can choose a `k` value. The higher the `k` value, we choose, the more outliers we keep. We usually choose a `k` value in the range of 1.5 through 3. "
   ]
  },
  {
   "cell_type": "code",
   "execution_count": 11,
   "id": "7c08b603",
   "metadata": {},
   "outputs": [],
   "source": [
    "def remove_outliers(df, k, col_list):\n",
    "    ''' remove outliers from a list of columns in a dataframe \n",
    "        and return that dataframe\n",
    "    '''\n",
    "    \n",
    "    for col in col_list:\n",
    "\n",
    "        q1, q3 = df[col].quantile([.25, .75])  # get quartiles\n",
    "        \n",
    "        iqr = q3 - q1   # calculate interquartile range\n",
    "        \n",
    "        upper_bound = q3 + k * iqr   # get upper bound\n",
    "        lower_bound = q1 - k * iqr   # get lower bound\n",
    "\n",
    "        # return dataframe without outliers\n",
    "        \n",
    "        df = df[(df[col] > lower_bound) & (df[col] < upper_bound)]\n",
    "        \n",
    "    return df"
   ]
  },
  {
   "cell_type": "markdown",
   "id": "b59db43f",
   "metadata": {},
   "source": [
    "Now we are ready to run the `remove_outliers` function on our data. Since I would rather keep more outliers, I will use the `k` value of 3. "
   ]
  },
  {
   "cell_type": "code",
   "execution_count": 12,
   "id": "833e3d06",
   "metadata": {},
   "outputs": [],
   "source": [
    "df = remove_outliers(df, 3, df.columns)"
   ]
  },
  {
   "cell_type": "markdown",
   "id": "2b1ea47a",
   "metadata": {},
   "source": [
    "We will now run the summary statistics on our DataFrame again to see how the ranges have changed after eliminating the outliers."
   ]
  },
  {
   "cell_type": "code",
   "execution_count": 13,
   "id": "1ad235f4",
   "metadata": {
    "scrolled": true
   },
   "outputs": [
    {
     "data": {
      "text/html": [
       "<div>\n",
       "<style scoped>\n",
       "    .dataframe tbody tr th:only-of-type {\n",
       "        vertical-align: middle;\n",
       "    }\n",
       "\n",
       "    .dataframe tbody tr th {\n",
       "        vertical-align: top;\n",
       "    }\n",
       "\n",
       "    .dataframe thead th {\n",
       "        text-align: right;\n",
       "    }\n",
       "</style>\n",
       "<table border=\"1\" class=\"dataframe\">\n",
       "  <thead>\n",
       "    <tr style=\"text-align: right;\">\n",
       "      <th></th>\n",
       "      <th>count</th>\n",
       "      <th>mean</th>\n",
       "      <th>std</th>\n",
       "      <th>min</th>\n",
       "      <th>25%</th>\n",
       "      <th>50%</th>\n",
       "      <th>75%</th>\n",
       "      <th>max</th>\n",
       "    </tr>\n",
       "  </thead>\n",
       "  <tbody>\n",
       "    <tr>\n",
       "      <th>bedroomcnt</th>\n",
       "      <td>2047697.0</td>\n",
       "      <td>3.257585</td>\n",
       "      <td>0.867531</td>\n",
       "      <td>1.00</td>\n",
       "      <td>3.00</td>\n",
       "      <td>3.00</td>\n",
       "      <td>4.0</td>\n",
       "      <td>6.0</td>\n",
       "    </tr>\n",
       "    <tr>\n",
       "      <th>bathroomcnt</th>\n",
       "      <td>2047697.0</td>\n",
       "      <td>2.144195</td>\n",
       "      <td>0.816078</td>\n",
       "      <td>0.00</td>\n",
       "      <td>2.00</td>\n",
       "      <td>2.00</td>\n",
       "      <td>3.0</td>\n",
       "      <td>5.5</td>\n",
       "    </tr>\n",
       "    <tr>\n",
       "      <th>calculatedfinishedsquarefeet</th>\n",
       "      <td>2047697.0</td>\n",
       "      <td>1753.956279</td>\n",
       "      <td>706.216229</td>\n",
       "      <td>1.00</td>\n",
       "      <td>1245.00</td>\n",
       "      <td>1593.00</td>\n",
       "      <td>2116.0</td>\n",
       "      <td>4965.0</td>\n",
       "    </tr>\n",
       "    <tr>\n",
       "      <th>taxvaluedollarcnt</th>\n",
       "      <td>2047697.0</td>\n",
       "      <td>373754.528423</td>\n",
       "      <td>263037.278085</td>\n",
       "      <td>1.00</td>\n",
       "      <td>183073.00</td>\n",
       "      <td>315734.00</td>\n",
       "      <td>499089.0</td>\n",
       "      <td>1521121.0</td>\n",
       "    </tr>\n",
       "    <tr>\n",
       "      <th>yearbuilt</th>\n",
       "      <td>2047697.0</td>\n",
       "      <td>1960.342414</td>\n",
       "      <td>21.565934</td>\n",
       "      <td>1875.00</td>\n",
       "      <td>1949.00</td>\n",
       "      <td>1958.00</td>\n",
       "      <td>1974.0</td>\n",
       "      <td>2016.0</td>\n",
       "    </tr>\n",
       "    <tr>\n",
       "      <th>taxamount</th>\n",
       "      <td>2047697.0</td>\n",
       "      <td>4615.385399</td>\n",
       "      <td>3013.713983</td>\n",
       "      <td>16.48</td>\n",
       "      <td>2477.34</td>\n",
       "      <td>3973.52</td>\n",
       "      <td>6015.1</td>\n",
       "      <td>16770.6</td>\n",
       "    </tr>\n",
       "    <tr>\n",
       "      <th>fips</th>\n",
       "      <td>2047697.0</td>\n",
       "      <td>6048.426256</td>\n",
       "      <td>20.519644</td>\n",
       "      <td>6037.00</td>\n",
       "      <td>6037.00</td>\n",
       "      <td>6037.00</td>\n",
       "      <td>6059.0</td>\n",
       "      <td>6111.0</td>\n",
       "    </tr>\n",
       "  </tbody>\n",
       "</table>\n",
       "</div>"
      ],
      "text/plain": [
       "                                  count           mean            std  \\\n",
       "bedroomcnt                    2047697.0       3.257585       0.867531   \n",
       "bathroomcnt                   2047697.0       2.144195       0.816078   \n",
       "calculatedfinishedsquarefeet  2047697.0    1753.956279     706.216229   \n",
       "taxvaluedollarcnt             2047697.0  373754.528423  263037.278085   \n",
       "yearbuilt                     2047697.0    1960.342414      21.565934   \n",
       "taxamount                     2047697.0    4615.385399    3013.713983   \n",
       "fips                          2047697.0    6048.426256      20.519644   \n",
       "\n",
       "                                  min        25%        50%       75%  \\\n",
       "bedroomcnt                       1.00       3.00       3.00       4.0   \n",
       "bathroomcnt                      0.00       2.00       2.00       3.0   \n",
       "calculatedfinishedsquarefeet     1.00    1245.00    1593.00    2116.0   \n",
       "taxvaluedollarcnt                1.00  183073.00  315734.00  499089.0   \n",
       "yearbuilt                     1875.00    1949.00    1958.00    1974.0   \n",
       "taxamount                       16.48    2477.34    3973.52    6015.1   \n",
       "fips                          6037.00    6037.00    6037.00    6059.0   \n",
       "\n",
       "                                    max  \n",
       "bedroomcnt                          6.0  \n",
       "bathroomcnt                         5.5  \n",
       "calculatedfinishedsquarefeet     4965.0  \n",
       "taxvaluedollarcnt             1521121.0  \n",
       "yearbuilt                        2016.0  \n",
       "taxamount                       16770.6  \n",
       "fips                             6111.0  "
      ]
     },
     "execution_count": 13,
     "metadata": {},
     "output_type": "execute_result"
    }
   ],
   "source": [
    "df.describe().T"
   ]
  },
  {
   "cell_type": "markdown",
   "id": "0587c350",
   "metadata": {},
   "source": [
    "The range of values within columns has significantly decreased. For example, whereas before eliminating outliers the bedroom count ranges from 0 to 25, after eliminating outliers, the bedroom count now ranges from 1 to 6. "
   ]
  },
  {
   "cell_type": "markdown",
   "id": "d7202f80",
   "metadata": {},
   "source": [
    "### Prepare Takeaways\n",
    " - We have replaced every null value in the DataFrame.\n",
    " - We have eliminated the most extreme outliers.  \n",
    " - Our DataFrame is now ready for us to explore."
   ]
  },
  {
   "cell_type": "markdown",
   "id": "b241b8ce",
   "metadata": {},
   "source": [
    "## Visualize Distributions"
   ]
  },
  {
   "cell_type": "markdown",
   "id": "c6cdcf60",
   "metadata": {},
   "source": [
    "We will plot the data to see the distributions of single variables and check for skewness, outliers, and unit scales. \n",
    "\n",
    "Since we are exploring single variables, we do not need to split our data."
   ]
  },
  {
   "cell_type": "markdown",
   "id": "a7d4dfa1",
   "metadata": {},
   "source": [
    "### Bedroom Count Distribution"
   ]
  },
  {
   "cell_type": "code",
   "execution_count": 17,
   "id": "291a0422",
   "metadata": {},
   "outputs": [
    {
     "data": {
      "image/png": "[encoded data removed]",
      "text/plain": [
       "<Figure size 432x288 with 1 Axes>"
      ]
     },
     "metadata": {
      "needs_background": "light"
     },
     "output_type": "display_data"
    }
   ],
   "source": [
    "bedroom_count = sns.histplot(data=df, x=\"bedroomcnt\", discrete = True).set(Title = \"Bedroom Count Distribution\")"
   ]
  },
  {
   "cell_type": "markdown",
   "id": "aad133ac",
   "metadata": {},
   "source": [
    "### Bathroom Count Distribution"
   ]
  },
  {
   "cell_type": "code",
   "execution_count": 18,
   "id": "575d3cde",
   "metadata": {},
   "outputs": [
    {
     "data": {
      "image/png": "[encoded data removed]",
      "text/plain": [
       "<Figure size 432x288 with 1 Axes>"
      ]
     },
     "metadata": {
      "needs_background": "light"
     },
     "output_type": "display_data"
    }
   ],
   "source": [
    "bathroom_count = sns.histplot(data=df, x=\"bathroomcnt\", discrete = True).set(Title = \"Bathroom Count Distribution\")"
   ]
  },
  {
   "cell_type": "markdown",
   "id": "5db26248",
   "metadata": {},
   "source": [
    "### Square Feet Distribution"
   ]
  },
  {
   "cell_type": "code",
   "execution_count": 19,
   "id": "7f68d586",
   "metadata": {},
   "outputs": [
    {
     "data": {
      "image/png": "[encoded data removed]",
      "text/plain": [
       "<Figure size 432x288 with 1 Axes>"
      ]
     },
     "metadata": {
      "needs_background": "light"
     },
     "output_type": "display_data"
    }
   ],
   "source": [
    "square_feet_log_scale = sns.histplot(data=df, x=\"calculatedfinishedsquarefeet\").set(Title = \"Square Footage Distribution\")"
   ]
  },
  {
   "cell_type": "markdown",
   "id": "3c923c62",
   "metadata": {},
   "source": [
    "### Tax Value Distribution"
   ]
  },
  {
   "cell_type": "code",
   "execution_count": 20,
   "id": "783b917b",
   "metadata": {},
   "outputs": [
    {
     "data": {
      "image/png": "[encoded data removed]",
      "text/plain": [
       "<Figure size 432x288 with 1 Axes>"
      ]
     },
     "metadata": {
      "needs_background": "light"
     },
     "output_type": "display_data"
    }
   ],
   "source": [
    "tax_value = sns.histplot(data = df, x = \"taxvaluedollarcnt\").set(Title = \"Tax Value Distribution\")"
   ]
  },
  {
   "cell_type": "markdown",
   "id": "343ce200",
   "metadata": {},
   "source": [
    "### Year Built Distribution"
   ]
  },
  {
   "cell_type": "code",
   "execution_count": 21,
   "id": "be1361b4",
   "metadata": {},
   "outputs": [
    {
     "data": {
      "image/png": "[encoded data removed]",
      "text/plain": [
       "<Figure size 432x288 with 1 Axes>"
      ]
     },
     "metadata": {
      "needs_background": "light"
     },
     "output_type": "display_data"
    }
   ],
   "source": [
    "yearbuilt_graph = sns.histplot(data=df, x=\"yearbuilt\", discrete = True).set(Title = \"Year Built Distribution\")"
   ]
  },
  {
   "cell_type": "markdown",
   "id": "90e5a2fa",
   "metadata": {},
   "source": [
    "### FIPS Code Distribution"
   ]
  },
  {
   "cell_type": "code",
   "execution_count": 22,
   "id": "39ce226c",
   "metadata": {},
   "outputs": [
    {
     "data": {
      "image/png": "[encoded data removed]",
      "text/plain": [
       "<Figure size 432x288 with 1 Axes>"
      ]
     },
     "metadata": {
      "needs_background": "light"
     },
     "output_type": "display_data"
    }
   ],
   "source": [
    "fips_graph = sns.countplot(data =df, x =\"fips\").set(Title = \"FIPS code counts\")"
   ]
  },
  {
   "cell_type": "markdown",
   "id": "4eb931fb",
   "metadata": {},
   "source": [
    "![title](ralph-ravi-kayden-2d4lAQAlbDA-unsplash.jpg)"
   ]
  },
  {
   "cell_type": "markdown",
   "id": "be6923ef",
   "metadata": {},
   "source": [
    "[Source Photo 6](https://unsplash.com/photos/2d4lAQAlbDA)"
   ]
  }
 ],
 "metadata": {
  "kernelspec": {
   "display_name": "Python 3",
   "language": "python",
   "name": "python3"
  },
  "language_info": {
   "codemirror_mode": {
    "name": "ipython",
    "version": 3
   },
   "file_extension": ".py",
   "mimetype": "text/x-python",
   "name": "python",
   "nbconvert_exporter": "python",
   "pygments_lexer": "ipython3",
   "version": "3.8.8"
  }
 },
 "nbformat": 4,
 "nbformat_minor": 5
}
